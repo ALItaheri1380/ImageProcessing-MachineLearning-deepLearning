{
 "cells": [
  {
   "cell_type": "code",
   "execution_count": 3,
   "metadata": {},
   "outputs": [],
   "source": [
    "import torch\n",
    "import unicodedata\n",
    "import torch.nn as nn \n",
    "import matplotlib.pyplot as plt \n",
    "from IPython.display import Image\n",
    "import io\n",
    "import os\n",
    "import string\n",
    "import glob\n",
    "import torch\n",
    "import random"
   ]
  },
  {
   "cell_type": "markdown",
   "metadata": {},
   "source": [
    "## Some functions to work on files and strings"
   ]
  },
  {
   "cell_type": "markdown",
   "metadata": {},
   "source": [
    "##### parametr"
   ]
  },
  {
   "cell_type": "code",
   "execution_count": 4,
   "metadata": {},
   "outputs": [
    {
     "data": {
      "text/plain": [
       "57"
      ]
     },
     "execution_count": 4,
     "metadata": {},
     "output_type": "execute_result"
    }
   ],
   "source": [
    "CHARACTER = string.ascii_letters + ' ' + '.' + ',' + ';' + \"'\"\n",
    "Len_Character = len(CHARACTER)\n",
    "hid_len = 200\n",
    "Alph = 0.0055\n",
    "current_loss = 0\n",
    "Collection_of_losses = []\n",
    "num = 150000\n",
    "local_loss = 0\n",
    "Len_Character"
   ]
  },
  {
   "cell_type": "code",
   "execution_count": 92,
   "metadata": {},
   "outputs": [],
   "source": [
    "def cnvrt_acti(s):\n",
    "    return ''.join(\n",
    "        c for c in unicodedata.normalize('NFD', s)\n",
    "        if unicodedata.category(c) != 'Mn'\n",
    "        and c in CHARACTER\n",
    "    )"
   ]
  },
  {
   "cell_type": "markdown",
   "metadata": {},
   "source": [
    "##### Data: https://download.pytorch.org/tutorial/data.zip"
   ]
  },
  {
   "cell_type": "code",
   "execution_count": 111,
   "metadata": {},
   "outputs": [],
   "source": [
    "def LoadData():\n",
    "    Country_dict = {};All_Country = []\n",
    "\n",
    "    def find_files(path):\n",
    "        return glob.glob(path)\n",
    "\n",
    "    def read_lines(filename):\n",
    "        lines = io.open(filename, encoding='utf-8').read().strip().split('\\n')\n",
    "        return [cnvrt_acti(line) for line in lines]\n",
    "\n",
    "    for filename in find_files('*.txt'):\n",
    "        category = os.path.splitext(os.path.basename(filename))[0]\n",
    "        All_Country.append(category)\n",
    "        lines = read_lines(filename)\n",
    "        Country_dict[category] = lines\n",
    "        \n",
    "    return Country_dict, All_Country"
   ]
  },
  {
   "cell_type": "code",
   "execution_count": 94,
   "metadata": {},
   "outputs": [],
   "source": [
    "def FindInex(letter):\n",
    "    return CHARACTER.find(letter)"
   ]
  },
  {
   "cell_type": "markdown",
   "metadata": {},
   "source": [
    "## One Hot Encoding"
   ]
  },
  {
   "cell_type": "code",
   "execution_count": 95,
   "metadata": {},
   "outputs": [],
   "source": [
    "def oneHot_tensor(line):\n",
    "    tensor = torch.zeros(len(line), 1, Len_Character)\n",
    "    for i, letter in enumerate(line):\n",
    "        tensor[i][0][FindInex(letter)] = 1\n",
    "    return tensor"
   ]
  },
  {
   "cell_type": "code",
   "execution_count": 96,
   "metadata": {},
   "outputs": [],
   "source": [
    "def Random(Country_dict, All_Country):\n",
    "    \n",
    "    def random_choice(a):\n",
    "        random_idx = random.randint(0, len(a) - 1)\n",
    "        return a[random_idx]\n",
    "    \n",
    "    category = random_choice(All_Country)\n",
    "    line = random_choice(Country_dict[category])\n",
    "    category_tensor = torch.tensor([All_Country.index(category)], dtype=torch.long)\n",
    "    line_tensor = oneHot_tensor(line)\n",
    "    return category, line, category_tensor, line_tensor"
   ]
  },
  {
   "cell_type": "markdown",
   "metadata": {},
   "source": [
    "# RNN"
   ]
  },
  {
   "cell_type": "code",
   "execution_count": 100,
   "metadata": {},
   "outputs": [],
   "source": [
    "class RNN(nn.Module):\n",
    "    def __init__(self, inp_len, hid_len, out_len):\n",
    "        super(RNN, self).__init__()\n",
    "        \n",
    "        self.hid_len = hid_len\n",
    "        self.i2h = nn.Linear(inp_len + hid_len, hid_len)\n",
    "        self.i2o = nn.Linear(inp_len + hid_len, out_len)\n",
    "        self.softmax = nn.LogSoftmax(dim=1)\n",
    "        \n",
    "    def forward(self, input_tensor, hidden_tensor):\n",
    "        \n",
    "        combined = torch.hstack((input_tensor, hidden_tensor))\n",
    "        hidden = self.i2h(combined)\n",
    "        out = self.softmax(self.i2o(combined))\n",
    "        \n",
    "        return out, hidden\n",
    "    \n",
    "    def CrtZero(self):\n",
    "        return torch.zeros(1, self.hid_len)"
   ]
  },
  {
   "cell_type": "code",
   "execution_count": 101,
   "metadata": {},
   "outputs": [
    {
     "data": {
      "text/plain": [
       "['Arabic',\n",
       " 'Chinese',\n",
       " 'Czech',\n",
       " 'Dutch',\n",
       " 'English',\n",
       " 'French',\n",
       " 'German',\n",
       " 'Greek',\n",
       " 'Irish',\n",
       " 'Italian',\n",
       " 'Japanese',\n",
       " 'Korean',\n",
       " 'Polish',\n",
       " 'Portuguese',\n",
       " 'Russian',\n",
       " 'Scottish',\n",
       " 'Spanish',\n",
       " 'Vietnamese']"
      ]
     },
     "execution_count": 101,
     "metadata": {},
     "output_type": "execute_result"
    }
   ],
   "source": [
    "Country_dict, All_Country = LoadData()\n",
    "All_Country"
   ]
  },
  {
   "cell_type": "code",
   "execution_count": 102,
   "metadata": {},
   "outputs": [],
   "source": [
    "Sample = RNN(Len_Character, hid_len, len(All_Country))"
   ]
  },
  {
   "cell_type": "code",
   "execution_count": 103,
   "metadata": {},
   "outputs": [],
   "source": [
    "def GetResult(output):\n",
    "    category_idx = torch.argmax(output).item()\n",
    "    return All_Country[category_idx]"
   ]
  },
  {
   "cell_type": "code",
   "execution_count": 104,
   "metadata": {},
   "outputs": [],
   "source": [
    "detriment = nn.NLLLoss()\n",
    "optimizer = torch.optim.SGD(Sample.parameters(), lr=Alph)"
   ]
  },
  {
   "cell_type": "code",
   "execution_count": 105,
   "metadata": {},
   "outputs": [],
   "source": [
    "def TrainingModel(line_tensor, category_tensor):\n",
    "\n",
    "    hidden = Sample.CrtZero()\n",
    "    for i in range(line_tensor.size()[0]):\n",
    "        output, hidden = Sample(line_tensor[i], hidden)\n",
    "        \n",
    "    ls = detriment(output, category_tensor)\n",
    "    ls.backward()\n",
    "\n",
    "    optimizer.step()\n",
    "    optimizer.zero_grad()\n",
    "    \n",
    "    return output, ls.item()"
   ]
  },
  {
   "cell_type": "code",
   "execution_count": 106,
   "metadata": {},
   "outputs": [
    {
     "name": "stdout",
     "output_type": "stream",
     "text": [
      "6999 .  loss =  1.5886   Jeon - Korean , Correct Answer.\n",
      "13999 .  loss =  1.5502   Finnegan - Irish , Correct Answer.\n",
      "20999 .  loss =  1.2292   Rahal - Vietnamese , Wrong Answer!!\n",
      "27999 .  loss =  1.2123   Kalogeria - Greek , Correct Answer.\n",
      "34999 .  loss =  1.4392   Inouye - Japanese , Correct Answer.\n",
      "41999 .  loss =  1.2256   Bonaventura - Portuguese , Wrong Answer!!\n",
      "48999 .  loss =  1.4080   Mckee - English , Correct Answer.\n",
      "55999 .  loss =  0.6250   Nasledov - Russian , Correct Answer.\n",
      "62999 .  loss =  0.0984   Thao - Vietnamese , Correct Answer.\n",
      "69999 .  loss =  0.8144   Waclauska - Czech , Correct Answer.\n",
      "76999 .  loss =  2.4370   Dupond - German , Wrong Answer!!\n",
      "83999 .  loss =  0.1344   Pispinis - Greek , Correct Answer.\n",
      "90999 .  loss =  4.0841   Smit - Korean , Wrong Answer!!\n",
      "97999 .  loss =  0.8880   Ganim - Arabic , Correct Answer.\n",
      "104999 .  loss =  0.6631   Shao - Chinese , Correct Answer.\n",
      "111999 .  loss =  0.2432   Fujishima - Japanese , Correct Answer.\n",
      "118999 .  loss =  0.9898   Stangl - Czech , Correct Answer.\n",
      "125999 .  loss =  1.2846   Brivio - Portuguese , Wrong Answer!!\n",
      "132999 .  loss =  1.5139   Gerhardt - German , Correct Answer.\n",
      "139999 .  loss =  0.8174   Gorski - Polish , Correct Answer.\n",
      "146999 .  loss =  0.1090   Rijnders - Dutch , Correct Answer.\n"
     ]
    }
   ],
   "source": [
    "\n",
    "for i in range(num):\n",
    "\n",
    "    country, line, category_tensor, line_tensor = Random(Country_dict, All_Country)\n",
    "    prd, loss = TrainingModel(line_tensor, category_tensor)\n",
    "    \n",
    "    local_loss += loss \n",
    "    \n",
    "    if (i+1) % 5000 == 0:\n",
    "\n",
    "        Collection_of_losses.append(local_loss / 1000)\n",
    "        local_loss = 0\n",
    "        \n",
    "    if (i+1) % 7000 == 0:\n",
    "        guess = GetResult(prd)\n",
    "\n",
    "        if guess == country:\n",
    "            correct = \"Correct Answer.\"\n",
    "        else:\n",
    "            correct = \"Wrong Answer!!\"  \n",
    "\n",
    "        print(i , '. ' , \"loss = \" , f\"{loss:.4f}   {line} - {guess} , {correct}\")"
   ]
  },
  {
   "cell_type": "markdown",
   "metadata": {},
   "source": [
    "### Draw diagram\n"
   ]
  },
  {
   "cell_type": "code",
   "execution_count": 107,
   "metadata": {},
   "outputs": [
    {
     "data": {
      "image/png": "[encoded data removed]",
      "text/plain": [
       "<Figure size 864x504 with 1 Axes>"
      ]
     },
     "metadata": {
      "needs_background": "light"
     },
     "output_type": "display_data"
    }
   ],
   "source": [
    "plt.figure(figsize=(12, 7))\n",
    "plt.plot(Collection_of_losses, color='red')\n",
    "plt.title('Training Loss', fontsize=20)\n",
    "plt.xlabel('Index', fontsize=12)\n",
    "plt.ylabel('Loss', fontsize=12)\n",
    "plt.grid(True)\n",
    "plt.show()"
   ]
  },
  {
   "cell_type": "code",
   "execution_count": 110,
   "metadata": {},
   "outputs": [
    {
     "name": "stdout",
     "output_type": "stream",
     "text": [
      "Input  Armbrüster  , result : German\n",
      "Input  Bao  , result : Chinese\n",
      "Input  Naifeh  , result : Arabic\n",
      "Input  Ali  , result : Italian\n",
      "Input  Abraham  , result : Vietnamese\n",
      "Input  Akutagawa  , result : Japanese\n",
      "Input  Chikamatsu  , result : Japanese\n",
      "Input  Han  , result : Chinese\n",
      "Input  Abbracciabeni  , result : Italian\n",
      "Input  Acqua  , result : Portuguese\n",
      "Input  Nader  , result : Arabic\n",
      "Input  Ghanem  , result : Arabic\n",
      "Input  Abakshin  , result : Russian\n",
      "Input  Bischoffs  , result : English\n",
      "Input  Adderley  , result : English\n",
      "Input  Gerig  , result : German\n",
      "Bye.\n"
     ]
    }
   ],
   "source": [
    "while True:\n",
    "    ph = input(\"Do you want to continue or is it over? If you want to continue, enter Yes, otherwise it will end = \")\n",
    "    if ph==\"Yes\":\n",
    "        with torch.no_grad():\n",
    "            input_line = input(\"Input Name :\")\n",
    "\n",
    "            line_tensor = oneHot_tensor(input_line)\n",
    "            hidden = Sample.CrtZero()\n",
    "            \n",
    "            for i in range(line_tensor.shape[0]):\n",
    "                output, hidden = Sample(line_tensor[i], hidden)\n",
    "            \n",
    "            res = GetResult(output)\n",
    "            print(\"Input \",input_line,\" , result :\", res)\n",
    "    else:\n",
    "        print(\"Bye.\")\n",
    "        break"
   ]
  }
 ],
 "metadata": {
  "kernelspec": {
   "display_name": "Python 3",
   "language": "python",
   "name": "python3"
  },
  "language_info": {
   "codemirror_mode": {
    "name": "ipython",
    "version": 3
   },
   "file_extension": ".py",
   "mimetype": "text/x-python",
   "name": "python",
   "nbconvert_exporter": "python",
   "pygments_lexer": "ipython3",
   "version": "3.10.0"
  },
  "orig_nbformat": 4
 },
 "nbformat": 4,
 "nbformat_minor": 2
}
