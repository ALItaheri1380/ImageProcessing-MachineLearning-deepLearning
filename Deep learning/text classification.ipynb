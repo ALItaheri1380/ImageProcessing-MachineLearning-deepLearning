{
 "cells": [
  {
   "cell_type": "code",
   "execution_count": 22,
   "metadata": {},
   "outputs": [],
   "source": [
    "import numpy as np\n",
    "import pandas as pd\n",
    "from sklearn.svm import SVC\n",
    "from sklearn.feature_extraction.text import TfidfVectorizer\n",
    "from sklearn.model_selection import train_test_split, KFold, cross_val_score\n",
    "from sklearn.preprocessing import StandardScaler\n",
    "from tensorflow.keras.models import Sequential\n",
    "from tensorflow.keras.layers import Dense, Dropout\n",
    "from tensorflow.keras.utils import to_categorical\n",
    "from tensorflow.keras.callbacks import EarlyStopping\n",
    "from sklearn.linear_model import LogisticRegression\n",
    "from sklearn.metrics import classification_report, accuracy_score\n",
    "from sklearn.naive_bayes import MultinomialNB\n",
    "from sklearn.preprocessing import MinMaxScaler\n",
    "from sklearn.tree import DecisionTreeClassifier"
   ]
  },
  {
   "cell_type": "code",
   "execution_count": 4,
   "metadata": {},
   "outputs": [
    {
     "data": {
      "text/html": [
       "<div>\n",
       "<style scoped>\n",
       "    .dataframe tbody tr th:only-of-type {\n",
       "        vertical-align: middle;\n",
       "    }\n",
       "\n",
       "    .dataframe tbody tr th {\n",
       "        vertical-align: top;\n",
       "    }\n",
       "\n",
       "    .dataframe thead th {\n",
       "        text-align: right;\n",
       "    }\n",
       "</style>\n",
       "<table border=\"1\" class=\"dataframe\">\n",
       "  <thead>\n",
       "    <tr style=\"text-align: right;\">\n",
       "      <th></th>\n",
       "      <th>lable</th>\n",
       "      <th>text</th>\n",
       "    </tr>\n",
       "  </thead>\n",
       "  <tbody>\n",
       "    <tr>\n",
       "      <th>0</th>\n",
       "      <td>4</td>\n",
       "      <td>خوب</td>\n",
       "    </tr>\n",
       "    <tr>\n",
       "      <th>1</th>\n",
       "      <td>4</td>\n",
       "      <td>متأسفانه جهت بانوان باشگاه و استخر نبود</td>\n",
       "    </tr>\n",
       "    <tr>\n",
       "      <th>2</th>\n",
       "      <td>3</td>\n",
       "      <td>اتاق‌ها کهنه و وسایل قدیمی سرو صدای زیاد خیابان</td>\n",
       "    </tr>\n",
       "    <tr>\n",
       "      <th>3</th>\n",
       "      <td>3</td>\n",
       "      <td>بالشت و خوشخواب تخت افتضاح بود جوری که صبح کمر...</td>\n",
       "    </tr>\n",
       "    <tr>\n",
       "      <th>4</th>\n",
       "      <td>4</td>\n",
       "      <td>برای سمپوزیوم رفته بودم که به طور کلی صبحانه م...</td>\n",
       "    </tr>\n",
       "    <tr>\n",
       "      <th>...</th>\n",
       "      <td>...</td>\n",
       "      <td>...</td>\n",
       "    </tr>\n",
       "    <tr>\n",
       "      <th>15208</th>\n",
       "      <td>5</td>\n",
       "      <td>بسیار عالی هتلی در حد هتل پنج ستاره بنده برای ...</td>\n",
       "    </tr>\n",
       "    <tr>\n",
       "      <th>15209</th>\n",
       "      <td>5</td>\n",
       "      <td>بسیار از هتل راضی بودم و به نظرم واقعا عالی بود</td>\n",
       "    </tr>\n",
       "    <tr>\n",
       "      <th>15210</th>\n",
       "      <td>5</td>\n",
       "      <td>همه چیز عالی بود تمیزی، امکانات، پرسنل، نزدیکی...</td>\n",
       "    </tr>\n",
       "    <tr>\n",
       "      <th>15211</th>\n",
       "      <td>4</td>\n",
       "      <td>مدت زمان چک این و چک اوت زیاد است.</td>\n",
       "    </tr>\n",
       "    <tr>\n",
       "      <th>15212</th>\n",
       "      <td>5</td>\n",
       "      <td>سلام كيفيت غذا پايين بود و سر و صداي زيادي وجو...</td>\n",
       "    </tr>\n",
       "  </tbody>\n",
       "</table>\n",
       "<p>15213 rows × 2 columns</p>\n",
       "</div>"
      ],
      "text/plain": [
       "       lable                                               text\n",
       "0          4                                                خوب\n",
       "1          4            متأسفانه جهت بانوان باشگاه و استخر نبود\n",
       "2          3    اتاق‌ها کهنه و وسایل قدیمی سرو صدای زیاد خیابان\n",
       "3          3  بالشت و خوشخواب تخت افتضاح بود جوری که صبح کمر...\n",
       "4          4  برای سمپوزیوم رفته بودم که به طور کلی صبحانه م...\n",
       "...      ...                                                ...\n",
       "15208      5  بسیار عالی هتلی در حد هتل پنج ستاره بنده برای ...\n",
       "15209      5    بسیار از هتل راضی بودم و به نظرم واقعا عالی بود\n",
       "15210      5  همه چیز عالی بود تمیزی، امکانات، پرسنل، نزدیکی...\n",
       "15211      4                 مدت زمان چک این و چک اوت زیاد است.\n",
       "15212      5  سلام كيفيت غذا پايين بود و سر و صداي زيادي وجو...\n",
       "\n",
       "[15213 rows x 2 columns]"
      ]
     },
     "execution_count": 4,
     "metadata": {},
     "output_type": "execute_result"
    }
   ],
   "source": [
    "df = pd.read_csv('word.csv')\n",
    "df"
   ]
  },
  {
   "cell_type": "code",
   "execution_count": 5,
   "metadata": {},
   "outputs": [],
   "source": [
    "tfidf_vectorizer = TfidfVectorizer(ngram_range=(1, 3), max_features=10000)\n",
    "tfidf_matrix = tfidf_vectorizer.fit_transform(df['text'])\n",
    "tfidf_df = pd.DataFrame(tfidf_matrix.toarray(), columns=tfidf_vectorizer.get_feature_names_out())"
   ]
  },
  {
   "cell_type": "code",
   "execution_count": 6,
   "metadata": {},
   "outputs": [],
   "source": [
    "df = pd.concat([df, tfidf_df], axis=1)\n",
    "df = df.drop(df.columns[1], axis=1)"
   ]
  },
  {
   "cell_type": "code",
   "execution_count": 7,
   "metadata": {},
   "outputs": [],
   "source": [
    "X = df.drop(df.columns[0], axis=1)\n",
    "Y = df.iloc[:, 0]"
   ]
  },
  {
   "cell_type": "code",
   "execution_count": 8,
   "metadata": {},
   "outputs": [],
   "source": [
    "X_train, X_temp, y_train, y_temp = train_test_split(X, Y, test_size=0.2, random_state=42)\n",
    "X_val, X_test, y_val, y_test = train_test_split(X_temp, y_temp, test_size=0.5, random_state=42)"
   ]
  },
  {
   "cell_type": "code",
   "execution_count": 7,
   "metadata": {},
   "outputs": [],
   "source": [
    "scaler = StandardScaler()\n",
    "X_train = scaler.fit_transform(X_train)\n",
    "X_val = scaler.transform(X_val)\n",
    "X_test = scaler.transform(X_test)"
   ]
  },
  {
   "cell_type": "code",
   "execution_count": 8,
   "metadata": {},
   "outputs": [],
   "source": [
    "num_classes = len(np.unique(Y))\n",
    "y_train = to_categorical(y_train - 1, num_classes)\n",
    "y_val = to_categorical(y_val - 1, num_classes)\n",
    "y_test = to_categorical(y_test - 1, num_classes)"
   ]
  },
  {
   "cell_type": "markdown",
   "metadata": {},
   "source": [
    "# MLP"
   ]
  },
  {
   "cell_type": "code",
   "execution_count": 9,
   "metadata": {},
   "outputs": [],
   "source": [
    "def create_model(input_dim, num_classes):\n",
    "    model = Sequential()\n",
    "    model.add(Dense(1024, input_dim=input_dim, activation='relu'))\n",
    "    model.add(Dropout(0.5))\n",
    "    model.add(Dense(512, activation='relu'))\n",
    "    model.add(Dropout(0.5))\n",
    "    model.add(Dense(256, activation='relu'))\n",
    "    model.add(Dropout(0.5))\n",
    "    model.add(Dense(128, activation='relu'))\n",
    "    model.add(Dense(num_classes, activation='softmax'))\n",
    "    model.compile(loss='categorical_crossentropy', optimizer='adam', metrics=['accuracy'])\n",
    "    return model"
   ]
  },
  {
   "cell_type": "code",
   "execution_count": 10,
   "metadata": {},
   "outputs": [
    {
     "name": "stdout",
     "output_type": "stream",
     "text": [
      "Epoch 1/50\n",
      "153/153 [==============================] - 8s 52ms/step - loss: 1.3437 - accuracy: 0.4359 - val_loss: 1.1645 - val_accuracy: 0.5292\n",
      "Epoch 2/50\n",
      "153/153 [==============================] - 8s 49ms/step - loss: 1.0626 - accuracy: 0.5643 - val_loss: 1.0137 - val_accuracy: 0.5596\n",
      "Epoch 3/50\n",
      "153/153 [==============================] - 8s 53ms/step - loss: 0.8451 - accuracy: 0.6634 - val_loss: 0.9538 - val_accuracy: 0.5933\n",
      "Epoch 4/50\n",
      "153/153 [==============================] - 8s 53ms/step - loss: 0.6748 - accuracy: 0.7414 - val_loss: 0.9848 - val_accuracy: 0.6015\n",
      "Epoch 5/50\n",
      "153/153 [==============================] - 9s 58ms/step - loss: 0.5159 - accuracy: 0.8115 - val_loss: 1.0870 - val_accuracy: 0.5785\n",
      "Epoch 6/50\n",
      "153/153 [==============================] - 9s 56ms/step - loss: 0.4025 - accuracy: 0.8557 - val_loss: 1.2525 - val_accuracy: 0.5867\n",
      "Epoch 7/50\n",
      "153/153 [==============================] - 8s 51ms/step - loss: 0.3222 - accuracy: 0.8809 - val_loss: 1.3640 - val_accuracy: 0.5855\n",
      "Epoch 8/50\n",
      "153/153 [==============================] - 8s 51ms/step - loss: 0.2638 - accuracy: 0.9031 - val_loss: 1.5389 - val_accuracy: 0.5785\n",
      "Epoch 1/50\n",
      "153/153 [==============================] - 9s 56ms/step - loss: 1.3815 - accuracy: 0.4320 - val_loss: 1.1091 - val_accuracy: 0.5341\n",
      "Epoch 2/50\n",
      "153/153 [==============================] - 9s 56ms/step - loss: 1.0732 - accuracy: 0.5420 - val_loss: 0.9870 - val_accuracy: 0.6052\n",
      "Epoch 3/50\n",
      "153/153 [==============================] - 9s 59ms/step - loss: 0.8399 - accuracy: 0.6679 - val_loss: 0.9656 - val_accuracy: 0.5904\n",
      "Epoch 4/50\n",
      "153/153 [==============================] - 8s 55ms/step - loss: 0.6601 - accuracy: 0.7461 - val_loss: 0.9563 - val_accuracy: 0.6191\n",
      "Epoch 5/50\n",
      "153/153 [==============================] - 8s 55ms/step - loss: 0.4901 - accuracy: 0.8182 - val_loss: 1.0673 - val_accuracy: 0.6076\n",
      "Epoch 6/50\n",
      "153/153 [==============================] - 8s 54ms/step - loss: 0.3885 - accuracy: 0.8576 - val_loss: 1.2701 - val_accuracy: 0.6056\n",
      "Epoch 7/50\n",
      "153/153 [==============================] - 8s 54ms/step - loss: 0.3313 - accuracy: 0.8794 - val_loss: 1.3696 - val_accuracy: 0.6035\n",
      "Epoch 8/50\n",
      "153/153 [==============================] - 9s 57ms/step - loss: 0.2676 - accuracy: 0.9002 - val_loss: 1.4272 - val_accuracy: 0.5867\n",
      "Epoch 9/50\n",
      "153/153 [==============================] - 8s 51ms/step - loss: 0.2317 - accuracy: 0.9168 - val_loss: 1.5288 - val_accuracy: 0.6064\n",
      "Epoch 1/50\n",
      "153/153 [==============================] - 9s 54ms/step - loss: 1.3702 - accuracy: 0.4346 - val_loss: 1.1816 - val_accuracy: 0.4322\n",
      "Epoch 2/50\n",
      "153/153 [==============================] - 9s 57ms/step - loss: 1.0973 - accuracy: 0.5392 - val_loss: 1.0342 - val_accuracy: 0.5920\n",
      "Epoch 3/50\n",
      "153/153 [==============================] - 9s 58ms/step - loss: 0.9038 - accuracy: 0.6380 - val_loss: 0.9619 - val_accuracy: 0.5994\n",
      "Epoch 4/50\n",
      "153/153 [==============================] - 9s 60ms/step - loss: 0.7129 - accuracy: 0.7255 - val_loss: 0.9932 - val_accuracy: 0.5986\n",
      "Epoch 5/50\n",
      "153/153 [==============================] - 11s 69ms/step - loss: 0.5385 - accuracy: 0.7962 - val_loss: 1.0466 - val_accuracy: 0.5871\n",
      "Epoch 6/50\n",
      "153/153 [==============================] - 10s 64ms/step - loss: 0.4350 - accuracy: 0.8414 - val_loss: 1.2820 - val_accuracy: 0.5875\n",
      "Epoch 7/50\n",
      "153/153 [==============================] - 9s 62ms/step - loss: 0.3520 - accuracy: 0.8746 - val_loss: 1.4139 - val_accuracy: 0.5727\n",
      "Epoch 8/50\n",
      "153/153 [==============================] - 9s 61ms/step - loss: 0.2949 - accuracy: 0.8946 - val_loss: 1.4960 - val_accuracy: 0.5818\n",
      "Epoch 1/50\n",
      "153/153 [==============================] - 10s 61ms/step - loss: 1.3193 - accuracy: 0.4354 - val_loss: 1.1276 - val_accuracy: 0.5094\n",
      "Epoch 2/50\n",
      "153/153 [==============================] - 10s 62ms/step - loss: 1.0501 - accuracy: 0.5499 - val_loss: 1.0122 - val_accuracy: 0.5933\n",
      "Epoch 3/50\n",
      "153/153 [==============================] - 9s 62ms/step - loss: 0.8755 - accuracy: 0.6505 - val_loss: 0.9698 - val_accuracy: 0.6134\n",
      "Epoch 4/50\n",
      "153/153 [==============================] - 10s 64ms/step - loss: 0.6817 - accuracy: 0.7401 - val_loss: 0.9917 - val_accuracy: 0.6068\n",
      "Epoch 5/50\n",
      "153/153 [==============================] - 10s 66ms/step - loss: 0.5163 - accuracy: 0.8046 - val_loss: 1.1444 - val_accuracy: 0.5974\n",
      "Epoch 6/50\n",
      "153/153 [==============================] - 10s 67ms/step - loss: 0.4023 - accuracy: 0.8484 - val_loss: 1.3152 - val_accuracy: 0.5916\n",
      "Epoch 7/50\n",
      "153/153 [==============================] - 10s 64ms/step - loss: 0.3234 - accuracy: 0.8830 - val_loss: 1.5435 - val_accuracy: 0.5982\n",
      "Epoch 8/50\n",
      "153/153 [==============================] - 9s 62ms/step - loss: 0.2746 - accuracy: 0.9040 - val_loss: 1.5440 - val_accuracy: 0.5924\n",
      "Epoch 1/50\n",
      "153/153 [==============================] - 10s 66ms/step - loss: 1.3506 - accuracy: 0.4307 - val_loss: 1.1748 - val_accuracy: 0.4795\n",
      "Epoch 2/50\n",
      "153/153 [==============================] - 10s 63ms/step - loss: 1.0604 - accuracy: 0.5470 - val_loss: 1.0269 - val_accuracy: 0.6027\n",
      "Epoch 3/50\n",
      "153/153 [==============================] - 10s 63ms/step - loss: 0.8647 - accuracy: 0.6525 - val_loss: 0.9804 - val_accuracy: 0.5998\n",
      "Epoch 4/50\n",
      "153/153 [==============================] - 10s 64ms/step - loss: 0.6712 - accuracy: 0.7450 - val_loss: 0.9659 - val_accuracy: 0.5994\n",
      "Epoch 5/50\n",
      "153/153 [==============================] - 10s 62ms/step - loss: 0.5035 - accuracy: 0.8137 - val_loss: 1.0941 - val_accuracy: 0.6019\n",
      "Epoch 6/50\n",
      "153/153 [==============================] - 10s 68ms/step - loss: 0.4040 - accuracy: 0.8513 - val_loss: 1.2501 - val_accuracy: 0.5916\n",
      "Epoch 7/50\n",
      "153/153 [==============================] - 10s 67ms/step - loss: 0.3207 - accuracy: 0.8853 - val_loss: 1.3806 - val_accuracy: 0.5879\n",
      "Epoch 8/50\n",
      "153/153 [==============================] - 11s 70ms/step - loss: 0.2684 - accuracy: 0.9035 - val_loss: 1.4958 - val_accuracy: 0.5974\n",
      "Epoch 9/50\n",
      "153/153 [==============================] - 11s 69ms/step - loss: 0.2375 - accuracy: 0.9173 - val_loss: 1.6459 - val_accuracy: 0.5834\n"
     ]
    }
   ],
   "source": [
    "early_stopping = EarlyStopping(monitor='val_loss', patience=5, restore_best_weights=True)\n",
    "kf = KFold(n_splits=5)\n",
    "for train_index, val_index in kf.split(X_train):\n",
    "    X_train_kf, X_val_kf = X_train[train_index], X_train[val_index]\n",
    "    y_train_kf, y_val_kf = y_train[train_index], y_train[val_index]\n",
    "    \n",
    "    model = create_model(X_train.shape[1], num_classes)\n",
    "    model.fit(X_train_kf, y_train_kf, epochs=50, batch_size=64, validation_data=(X_val_kf, y_val_kf), callbacks=[early_stopping])"
   ]
  },
  {
   "cell_type": "code",
   "execution_count": 11,
   "metadata": {},
   "outputs": [
    {
     "name": "stdout",
     "output_type": "stream",
     "text": [
      "48/48 [==============================] - 1s 11ms/step - loss: 0.9828 - accuracy: 0.5924\n",
      "Validation Accuracy: 59.24%\n"
     ]
    }
   ],
   "source": [
    "loss, accuracy = model.evaluate(X_val, y_val)\n",
    "print(f'Validation Accuracy: {accuracy * 100:.2f}%')"
   ]
  },
  {
   "cell_type": "code",
   "execution_count": 12,
   "metadata": {},
   "outputs": [
    {
     "name": "stdout",
     "output_type": "stream",
     "text": [
      "48/48 [==============================] - 1s 10ms/step - loss: 0.9911 - accuracy: 0.6170\n",
      "Test Accuracy: 61.70%\n"
     ]
    }
   ],
   "source": [
    "loss, accuracy = model.evaluate(X_test, y_test)\n",
    "print(f'Test Accuracy: {accuracy * 100:.2f}%')"
   ]
  },
  {
   "cell_type": "markdown",
   "metadata": {},
   "source": [
    "# Naïve Bayes"
   ]
  },
  {
   "cell_type": "code",
   "execution_count": 9,
   "metadata": {},
   "outputs": [],
   "source": [
    "X_train, X_temp, y_train, y_temp = train_test_split(X, Y, test_size=0.2, random_state=42)\n",
    "X_val, X_test, y_val, y_test = train_test_split(X_temp, y_temp, test_size=0.5, random_state=42)"
   ]
  },
  {
   "cell_type": "code",
   "execution_count": 10,
   "metadata": {},
   "outputs": [],
   "source": [
    "scaler = MinMaxScaler()\n",
    "X_train = scaler.fit_transform(X_train)\n",
    "X_val = scaler.transform(X_val)\n",
    "X_test = scaler.transform(X_test)"
   ]
  },
  {
   "cell_type": "code",
   "execution_count": 11,
   "metadata": {},
   "outputs": [],
   "source": [
    "y_train = y_train.values.ravel()\n",
    "y_val = y_val.values.ravel()\n",
    "y_test = y_test.values.ravel()"
   ]
  },
  {
   "cell_type": "code",
   "execution_count": 16,
   "metadata": {},
   "outputs": [
    {
     "name": "stdout",
     "output_type": "stream",
     "text": [
      "Cross-Validation Accuracy: 61.74%\n"
     ]
    }
   ],
   "source": [
    "nb_model = MultinomialNB()\n",
    "scores = cross_val_score(nb_model, X_train, y_train, cv=5)\n",
    "print(f'Cross-Validation Accuracy: {np.mean(scores) * 100:.2f}%')"
   ]
  },
  {
   "cell_type": "code",
   "execution_count": 17,
   "metadata": {},
   "outputs": [
    {
     "name": "stdout",
     "output_type": "stream",
     "text": [
      "Validation Accuracy: 59.63%\n"
     ]
    }
   ],
   "source": [
    "nb_model.fit(X_train, y_train)\n",
    "y_val_pred = nb_model.predict(X_val)\n",
    "val_accuracy = accuracy_score(y_val, y_val_pred)\n",
    "print(f'Validation Accuracy: {val_accuracy * 100:.2f}%')"
   ]
  },
  {
   "cell_type": "code",
   "execution_count": 18,
   "metadata": {},
   "outputs": [
    {
     "name": "stdout",
     "output_type": "stream",
     "text": [
      "Test Accuracy: 62.42%\n"
     ]
    }
   ],
   "source": [
    "y_test_pred = nb_model.predict(X_test)\n",
    "test_accuracy = accuracy_score(y_test, y_test_pred)\n",
    "print(f'Test Accuracy: {test_accuracy * 100:.2f}%')"
   ]
  },
  {
   "cell_type": "code",
   "execution_count": 19,
   "metadata": {},
   "outputs": [
    {
     "name": "stdout",
     "output_type": "stream",
     "text": [
      "              precision    recall  f1-score   support\n",
      "\n",
      "           1       0.25      0.04      0.07        25\n",
      "           2       0.55      0.12      0.20        48\n",
      "           3       0.42      0.38      0.40       177\n",
      "           4       0.61      0.66      0.63       652\n",
      "           5       0.70      0.72      0.71       620\n",
      "\n",
      "    accuracy                           0.62      1522\n",
      "   macro avg       0.50      0.39      0.40      1522\n",
      "weighted avg       0.62      0.62      0.61      1522\n",
      "\n"
     ]
    }
   ],
   "source": [
    "print(classification_report(y_test, y_test_pred, target_names=[str(i) for i in range(1, len(np.unique(Y)) + 1)]))"
   ]
  },
  {
   "cell_type": "markdown",
   "metadata": {},
   "source": [
    "# Logistic Regression"
   ]
  },
  {
   "cell_type": "code",
   "execution_count": 12,
   "metadata": {},
   "outputs": [
    {
     "name": "stdout",
     "output_type": "stream",
     "text": [
      "Cross-Validation Accuracy: 61.61%\n"
     ]
    }
   ],
   "source": [
    "logreg_model = LogisticRegression(max_iter=1000)\n",
    "scores = cross_val_score(logreg_model, X_train, y_train, cv=5)\n",
    "print(f'Cross-Validation Accuracy: {np.mean(scores) * 100:.2f}%')"
   ]
  },
  {
   "cell_type": "code",
   "execution_count": 13,
   "metadata": {},
   "outputs": [
    {
     "name": "stdout",
     "output_type": "stream",
     "text": [
      "Validation Accuracy: 61.34%\n"
     ]
    }
   ],
   "source": [
    "logreg_model.fit(X_train, y_train)\n",
    "y_val_pred = logreg_model.predict(X_val)\n",
    "val_accuracy = accuracy_score(y_val, y_val_pred)\n",
    "print(f'Validation Accuracy: {val_accuracy * 100:.2f}%')"
   ]
  },
  {
   "cell_type": "code",
   "execution_count": 14,
   "metadata": {},
   "outputs": [
    {
     "name": "stdout",
     "output_type": "stream",
     "text": [
      "Test Accuracy: 60.84%\n"
     ]
    }
   ],
   "source": [
    "y_test_pred = logreg_model.predict(X_test)\n",
    "test_accuracy = accuracy_score(y_test, y_test_pred)\n",
    "print(f'Test Accuracy: {test_accuracy * 100:.2f}%')"
   ]
  },
  {
   "cell_type": "code",
   "execution_count": 15,
   "metadata": {},
   "outputs": [
    {
     "name": "stdout",
     "output_type": "stream",
     "text": [
      "              precision    recall  f1-score   support\n",
      "\n",
      "           1       0.83      0.20      0.32        25\n",
      "           2       0.38      0.12      0.19        48\n",
      "           3       0.46      0.29      0.36       177\n",
      "           4       0.58      0.69      0.63       652\n",
      "           5       0.67      0.67      0.67       620\n",
      "\n",
      "    accuracy                           0.61      1522\n",
      "   macro avg       0.59      0.40      0.43      1522\n",
      "weighted avg       0.60      0.61      0.60      1522\n",
      "\n"
     ]
    }
   ],
   "source": [
    "print(classification_report(y_test, y_test_pred, target_names=[str(i) for i in range(1, len(np.unique(Y)) + 1)]))"
   ]
  },
  {
   "cell_type": "markdown",
   "metadata": {},
   "source": [
    "# CART"
   ]
  },
  {
   "cell_type": "code",
   "execution_count": 16,
   "metadata": {},
   "outputs": [
    {
     "name": "stdout",
     "output_type": "stream",
     "text": [
      "Cross-Validation Accuracy: 56.16%\n"
     ]
    }
   ],
   "source": [
    "cart_model = DecisionTreeClassifier(random_state=42)\n",
    "scores = cross_val_score(cart_model, X_train, y_train, cv=5)\n",
    "print(f'Cross-Validation Accuracy: {np.mean(scores) * 100:.2f}%')"
   ]
  },
  {
   "cell_type": "code",
   "execution_count": 17,
   "metadata": {},
   "outputs": [
    {
     "name": "stdout",
     "output_type": "stream",
     "text": [
      "Validation Accuracy: 55.03%\n"
     ]
    }
   ],
   "source": [
    "cart_model.fit(X_train, y_train)\n",
    "y_val_pred = cart_model.predict(X_val)\n",
    "val_accuracy = accuracy_score(y_val, y_val_pred)\n",
    "print(f'Validation Accuracy: {val_accuracy * 100:.2f}%')"
   ]
  },
  {
   "cell_type": "code",
   "execution_count": 18,
   "metadata": {},
   "outputs": [
    {
     "name": "stdout",
     "output_type": "stream",
     "text": [
      "Test Accuracy: 54.01%\n"
     ]
    }
   ],
   "source": [
    "y_test_pred = cart_model.predict(X_test)\n",
    "test_accuracy = accuracy_score(y_test, y_test_pred)\n",
    "print(f'Test Accuracy: {test_accuracy * 100:.2f}%')"
   ]
  },
  {
   "cell_type": "code",
   "execution_count": 19,
   "metadata": {},
   "outputs": [
    {
     "name": "stdout",
     "output_type": "stream",
     "text": [
      "              precision    recall  f1-score   support\n",
      "\n",
      "           1       0.33      0.32      0.33        25\n",
      "           2       0.21      0.12      0.16        48\n",
      "           3       0.38      0.31      0.34       177\n",
      "           4       0.54      0.57      0.55       652\n",
      "           5       0.60      0.61      0.61       620\n",
      "\n",
      "    accuracy                           0.54      1522\n",
      "   macro avg       0.41      0.39      0.40      1522\n",
      "weighted avg       0.53      0.54      0.54      1522\n",
      "\n"
     ]
    }
   ],
   "source": [
    "print(classification_report(y_test, y_test_pred, target_names=[str(i) for i in range(1, len(np.unique(Y)) + 1)]))"
   ]
  }
 ],
 "metadata": {
  "kernelspec": {
   "display_name": "Python 3",
   "language": "python",
   "name": "python3"
  },
  "language_info": {
   "codemirror_mode": {
    "name": "ipython",
    "version": 3
   },
   "file_extension": ".py",
   "mimetype": "text/x-python",
   "name": "python",
   "nbconvert_exporter": "python",
   "pygments_lexer": "ipython3",
   "version": "3.10.0"
  }
 },
 "nbformat": 4,
 "nbformat_minor": 2
}
