{
  "cells": [
    {
      "cell_type": "code",
      "execution_count": 16,
      "metadata": {
        "id": "VqOfyXhgoo48"
      },
      "outputs": [],
      "source": [
        "import os\n",
        "import torch\n",
        "import wandb\n",
        "import cv2 as cv\n",
        "import torch.nn as nn\n",
        "import torch.optim as optim\n",
        "import matplotlib.pyplot as plt\n",
        "import torch.nn.functional as F\n",
        "from torchvision import transforms\n",
        "from torch.utils.data import Dataset\n",
        "from torch.utils.data import random_split\n",
        "from torch.utils.data import DataLoader, ConcatDataset, Subset"
      ]
    },
    {
      "cell_type": "code",
      "execution_count": 17,
      "metadata": {
        "colab": {
          "base_uri": "https://localhost:8080/"
        },
        "id": "XgXABDWToqFi",
        "outputId": "063aea44-7c2f-49aa-cbe9-06d736a06d0a"
      },
      "outputs": [
        {
          "name": "stdout",
          "output_type": "stream",
          "text": [
            "Using cuda device\n"
          ]
        }
      ],
      "source": [
        "device = torch.device(\"cuda\" if torch.cuda.is_available() else \"cpu\")\n",
        "print(f\"Using {device} device\")"
      ]
    },
    {
      "cell_type": "code",
      "execution_count": 18,
      "metadata": {
        "id": "a-KvbFigpX6a"
      },
      "outputs": [],
      "source": [
        "Classes = ('0', '1', '2', '3', '4', '5', '6', '7', '8', '9',\n",
        "           'dot', 'minus', 'plus', 'slash', 'x', 'y', 'z', 'w')"
      ]
    },
    {
      "cell_type": "code",
      "execution_count": 19,
      "metadata": {
        "id": "85Nv9zKRpbJZ"
      },
      "outputs": [],
      "source": [
        "class Mydataset(Dataset):\n",
        "    def __init__(self, data_dir, transform):\n",
        "        self.data_dir = data_dir\n",
        "        self.transform = transform\n",
        "        self.image_files = [file for file in os.listdir(data_dir) if file.endswith(\".png\")]\n",
        "\n",
        "    def __getitem__(self, idx):\n",
        "        image_name = self.image_files[idx]\n",
        "        image_path = os.path.join(self.data_dir, image_name)\n",
        "        image = cv.imread(image_path)\n",
        "\n",
        "        label = image_name.split(\"-\")[0]\n",
        "\n",
        "        if self.transform:\n",
        "            image = self.transform(image)\n",
        "\n",
        "        return image, label\n",
        "\n",
        "    def __len__(self):\n",
        "        return len(self.image_files)\n",
        "\n",
        "transform = transforms.Compose([\n",
        "    transforms.ToTensor(),\n",
        "    transforms.Grayscale(num_output_channels=1)\n",
        "])\n"
      ]
    },
    {
      "cell_type": "code",
      "execution_count": 20,
      "metadata": {
        "id": "1THDrGkqv8KZ"
      },
      "outputs": [],
      "source": [
        "dataset = Mydataset(data_dir=\"/content/symbols\", transform=transform)\n",
        "train_dataset, val_dataset, test_dataset = random_split(dataset, [int(len(dataset)*0.7), int(len(dataset)*0.2), int(len(dataset)*0.1)])"
      ]
    },
    {
      "cell_type": "code",
      "execution_count": 21,
      "metadata": {
        "id": "JYORsPG8qdTA"
      },
      "outputs": [],
      "source": [
        "train_loader = DataLoader(train_dataset, batch_size=64, shuffle=True)\n",
        "val_loader = DataLoader(val_dataset, batch_size=32, shuffle=True)\n",
        "test_loader = DataLoader(test_dataset, batch_size=32, shuffle=True)"
      ]
    },
    {
      "cell_type": "code",
      "execution_count": 22,
      "metadata": {
        "id": "ek-OBLZEqhrA"
      },
      "outputs": [],
      "source": [
        "def plot_class_distribution(dataset, title):\n",
        "    class_counts = {\"0\":0, \"1\":0, \"2\":0, \"3\":0, \"4\":0, \"5\":0,\n",
        "                    \"6\":0, \"7\":0, \"8\":0, \"9\":0, \"x\":0, \"y\":0,\n",
        "                    \"w\":0, \"z\":0, \"dot\":0, \"slash\":0, \"plus\":0,\n",
        "                    \"minus\":0}\n",
        "\n",
        "    for _, label in dataset:\n",
        "        class_counts[label] += 1\n",
        "\n",
        "    classes = list(class_counts.keys())\n",
        "    counts = list(class_counts.values())\n",
        "\n",
        "    plt.figure(figsize=(10, 6))\n",
        "    plt.bar(classes, counts)\n",
        "    plt.xlabel(\"Class\")\n",
        "    plt.ylabel(\"Number of Samples\")\n",
        "    plt.title(title)\n",
        "    plt.show()"
      ]
    },
    {
      "cell_type": "markdown",
      "metadata": {
        "id": "DUlFNk3bwHIa"
      },
      "source": [
        "**همانطور که در تصویر زیر میتوان دید، تعداد فراروانی در هر کلاس با کلاس دیگر متفاوت است(این موضوع برای وقتی صدق میکند که تعداد داده ها کم باشد، اگر زیاد باشد خیلی فرقی ندارد واقعا و تقریبا تعداد برابر هست) برای مثال در داده های تست، تعداد داده های حرف 8 خیلی بیشتر 4 هست**"
      ]
    },
    {
      "cell_type": "code",
      "execution_count": 23,
      "metadata": {
        "colab": {
          "base_uri": "https://localhost:8080/",
          "height": 1000
        },
        "id": "kM4melXJqi_w",
        "outputId": "126b585e-8cbc-4784-c344-af4dadde0fef"
      },
      "outputs": [
        {
          "data": {
            "image/png": "[encoded data removed]",
            "text/plain": [
              "<Figure size 1000x600 with 1 Axes>"
            ]
          },
          "metadata": {},
          "output_type": "display_data"
        },
        {
          "data": {
            "image/png": "[encoded data removed]",
            "text/plain": [
              "<Figure size 1000x600 with 1 Axes>"
            ]
          },
          "metadata": {},
          "output_type": "display_data"
        },
        {
          "data": {
            "image/png": "[encoded data removed]",
            "text/plain": [
              "<Figure size 1000x600 with 1 Axes>"
            ]
          },
          "metadata": {},
          "output_type": "display_data"
        }
      ],
      "source": [
        "plot_class_distribution(train_dataset, \"Distribution of Classes in Training Set\")\n",
        "plot_class_distribution(val_dataset, \"Distribution of Classes in Validation Set\")\n",
        "plot_class_distribution(test_dataset, \"Distribution of Classes in Test Set\")"
      ]
    },
    {
      "cell_type": "code",
      "execution_count": 24,
      "metadata": {
        "id": "CyCAr5H-qmPg"
      },
      "outputs": [],
      "source": [
        "def split_dataset_by_class(dataset, train_ratio=0.7, val_ratio=0.2, test_ratio=0.1):\n",
        "    set_index = {}\n",
        "    for idx, data in enumerate(dataset):\n",
        "        label = data[1]\n",
        "        if label not in set_index:\n",
        "            set_index[label] = []\n",
        "        set_index[label].append(idx)\n",
        "\n",
        "    train_index, val_index, test_index = [], [], []\n",
        "    for label, index in set_index.items():\n",
        "        train_index.extend(index[:int(train_ratio * len(index))])\n",
        "        val_index.extend(index[int(train_ratio * len(index)):int(train_ratio * len(index)) + int(val_ratio * len(index))])\n",
        "        test_index.extend(index[int(train_ratio * len(index)) + int(val_ratio * len(index)):])\n",
        "\n",
        "    train_dataset = [dataset[i] for i in train_index]\n",
        "    val_dataset = [dataset[i] for i in val_index]\n",
        "    test_dataset = [dataset[i] for i in test_index]\n",
        "\n",
        "    return train_dataset, val_dataset, test_dataset"
      ]
    },
    {
      "cell_type": "code",
      "execution_count": 25,
      "metadata": {
        "id": "E36J_eeBqzrN"
      },
      "outputs": [],
      "source": [
        "train_dataset, val_dataset, test_dataset = split_dataset_by_class(dataset, train_ratio=0.7, val_ratio=0.2, test_ratio=0.1)\n",
        "train_loader = DataLoader(train_dataset, batch_size=32, shuffle=True)\n",
        "val_loader = DataLoader(val_dataset, batch_size=32, shuffle=True)\n",
        "test_loader = DataLoader(test_dataset, batch_size=32, shuffle=True)"
      ]
    },
    {
      "cell_type": "markdown",
      "metadata": {
        "id": "NwmVYi86wrpf"
      },
      "source": [
        "با روش جدید میتوان دید که تعداد در همه کلاس ها مساوی و برابر است"
      ]
    },
    {
      "cell_type": "code",
      "execution_count": 26,
      "metadata": {
        "colab": {
          "base_uri": "https://localhost:8080/",
          "height": 1000
        },
        "id": "FSJQc-AZqtef",
        "outputId": "3020e6c5-8fd8-4459-cabc-2aa6f97789e9"
      },
      "outputs": [
        {
          "data": {
            "image/png": "[encoded data removed]",
            "text/plain": [
              "<Figure size 1000x600 with 1 Axes>"
            ]
          },
          "metadata": {},
          "output_type": "display_data"
        },
        {
          "data": {
            "image/png": "[encoded data removed]",
            "text/plain": [
              "<Figure size 1000x600 with 1 Axes>"
            ]
          },
          "metadata": {},
          "output_type": "display_data"
        },
        {
          "data": {
            "image/png": "[encoded data removed]",
            "text/plain": [
              "<Figure size 1000x600 with 1 Axes>"
            ]
          },
          "metadata": {},
          "output_type": "display_data"
        }
      ],
      "source": [
        "plot_class_distribution(train_dataset, \"Distribution of Classes in Training Set\")\n",
        "plot_class_distribution(val_dataset, \"Distribution of Classes in Validation Set\")\n",
        "plot_class_distribution(test_dataset, \"Distribution of Classes in Test Set\")"
      ]
    },
    {
      "cell_type": "markdown",
      "metadata": {
        "id": "nLV5WyDdxrzf"
      },
      "source": [
        "**Underfit**"
      ]
    },
    {
      "cell_type": "markdown",
      "metadata": {
        "id": "GuuT3cAIwxy3"
      },
      "source": [
        "پیچیدگی مدل: مدل بسیار ساده است. فقط یک لایه خطی دارد که کافی نیست برای یاد گرفتن الگوها و روابط پیچیده در داده‌های تصویری\n",
        "\n",
        "عدم وجود لایه‌های پنهان: عدم وجود لایه‌های پنهان، توانایی مدل را در یادگیری روابط غیرخطی بین ویژگی‌ها محدود می‌کند\n",
        "\n",
        "عدم استفاده از توابع فعال‌ساز غیرخطی: لایه‌های خطی بدون استفاده از توابع فعال‌ساز غیرخطی  توانایی مدل را در یادگیری مرزهای تصمیم پیچیده محدود می‌کند"
      ]
    },
    {
      "cell_type": "code",
      "execution_count": 27,
      "metadata": {
        "id": "3WkFpIuAwzle"
      },
      "outputs": [],
      "source": [
        "class SimpleNN(nn.Module):\n",
        "    def __init__(self):\n",
        "        super(SimpleNN, self).__init__()\n",
        "        self.flatten = nn.Flatten()\n",
        "        self.fc = nn.Linear(28*28, 18)\n",
        "\n",
        "    def forward(self, x):\n",
        "        x = self.flatten(x)\n",
        "        x = self.fc(x)\n",
        "        return x\n",
        "\n",
        "Simpel_Model = SimpleNN()"
      ]
    },
    {
      "cell_type": "markdown",
      "metadata": {
        "id": "DFzHaPMwxoyQ"
      },
      "source": [
        "**Overfit**"
      ]
    },
    {
      "cell_type": "markdown",
      "metadata": {
        "id": "TD5oRVsPw2R_"
      },
      "source": [
        "مدل از چندین لایه کانولوشن و لایه های کاملاً متصل با تعداد زیادی پارامتر استفاده می کند که باعث میشود خیلی داده های اموزش را خوب یادبگیرید(در اصل  دارد آنها را حفظ میکند، وقتی این مدل را با تعداد ایپاک خیلی بالا اموزش  میدهیم) اما وقتی که داده های تست را به انها بدهیم نتیجه خیلی جالبی به ما نخواهد داد(مگر اینکه داده ها را زیاد کنیم) همچنین  برای مثال از دراپ آوت هم استفاده نمیکند"
      ]
    },
    {
      "cell_type": "code",
      "execution_count": 28,
      "metadata": {
        "id": "IkVE5S3Cw4p_"
      },
      "outputs": [],
      "source": [
        "class ComplexCNN(nn.Module):\n",
        "    def __init__(self, num_classes):\n",
        "        super(ComplexCNN, self).__init__()\n",
        "\n",
        "        self.conv1 = nn.Conv2d(1, 128, kernel_size=3)\n",
        "        self.conv2 = nn.Conv2d(128, 256, kernel_size=3)\n",
        "        self.conv3 = nn.Conv2d(256, 512, kernel_size=3)\n",
        "        self.fc1 = nn.Linear(512, 512)\n",
        "        self.fc2 = nn.Linear(512, 256)\n",
        "        self.fc3 = nn.Linear(256, 256)\n",
        "        self.fc4 = nn.Linear(256, 128)\n",
        "        self.fc5 = nn.Linear(128, 128)\n",
        "        self.fc6 = nn.Linear(128, 64)\n",
        "        self.fc7 = nn.Linear(64, 64)\n",
        "        self.fc8 = nn.Linear(64, 32)\n",
        "        self.fc9 = nn.Linear(32, num_classes)\n",
        "\n",
        "    def forward(self, x):\n",
        "        x = F.relu(self.conv1(x))\n",
        "        x = F.max_pool2d(x, 2, 2)\n",
        "        x = F.relu(self.conv2(x))\n",
        "        x = F.max_pool2d(x, 2, 2)\n",
        "        x = F.relu(self.conv3(x))\n",
        "        x = F.max_pool2d(x, 2, 2)\n",
        "        x = x.view(-1, 512)\n",
        "        x = F.relu(self.fc1(x))\n",
        "        x = F.relu(self.fc2(x))\n",
        "        x = F.relu(self.fc3(x))\n",
        "        x = F.relu(self.fc4(x))\n",
        "        x = F.relu(self.fc5(x))\n",
        "        x = F.relu(self.fc6(x))\n",
        "        x = F.relu(self.fc7(x))\n",
        "        x = F.relu(self.fc8(x))\n",
        "        x = self.fc9(x)\n",
        "\n",
        "        return x"
      ]
    },
    {
      "cell_type": "markdown",
      "metadata": {
        "id": "FDbHyLuQxl24"
      },
      "source": [
        "**Bestfit**"
      ]
    },
    {
      "cell_type": "markdown",
      "metadata": {
        "id": "tR4rnS3GxEx4"
      },
      "source": [
        "اما در مدل زیر نه خیلی پیچیده و نه ساده است، هایپر پارامتر های کمتری نسبت به مدل پیچیده دارد، همچنین از تکنیک دارپ آوت برای جلو گیری از اورفیت شدن استفاده میکند"
      ]
    },
    {
      "cell_type": "code",
      "execution_count": 29,
      "metadata": {
        "id": "TfTLK2fyrCGq"
      },
      "outputs": [],
      "source": [
        "class BestFitModel(nn.Module):\n",
        "    def __init__(self, num_classes, dropout_prob=0.25):\n",
        "        super(BestFitModel, self).__init__()\n",
        "        self.conv1 = nn.Conv2d(1, 64, kernel_size=3)\n",
        "        self.conv2 = nn.Conv2d(64, 128, kernel_size=3)\n",
        "        self.fc1 = nn.Linear(128 * 5 * 5, 512)\n",
        "        self.fc2 = nn.Linear(512, num_classes)\n",
        "        self.dropout = nn.Dropout(p=dropout_prob)\n",
        "\n",
        "    def forward(self, x):\n",
        "        x = F.relu(self.conv1(x))\n",
        "        x = F.max_pool2d(x, 2, 2)\n",
        "        x = F.relu(self.conv2(x))\n",
        "        x = F.max_pool2d(x, 2, 2)\n",
        "        x = self.dropout(x)\n",
        "        x = x.view(-1, 128 * 5 * 5)\n",
        "        x = F.relu(self.fc1(x))\n",
        "        x = self.dropout(x)\n",
        "        x = self.fc2(x)\n",
        "        return x"
      ]
    },
    {
      "cell_type": "code",
      "execution_count": 30,
      "metadata": {
        "id": "ZnARRmMyrFuB"
      },
      "outputs": [],
      "source": [
        "class_to_idx = {cls: i for i, cls in enumerate(Classes)}"
      ]
    },
    {
      "cell_type": "code",
      "execution_count": 31,
      "metadata": {
        "id": "iIP95gZIrITB"
      },
      "outputs": [],
      "source": [
        "def epoch_one_train(model, train_loader, val_loader, optimizer, criterion, class_to_idx, lr):\n",
        "    model.train()\n",
        "    train_loss = 0.0\n",
        "    for images, labels in train_loader:\n",
        "        images = images.to(device)\n",
        "        label_idxs = [class_to_idx[label] for label in labels]\n",
        "        label_tensor = torch.tensor(label_idxs).to(device)\n",
        "\n",
        "        optimizer.zero_grad()\n",
        "        outputs = model(images)\n",
        "        loss = criterion(outputs, label_tensor)\n",
        "        loss.backward()\n",
        "        optimizer.step()\n",
        "\n",
        "        train_loss += loss.item()\n",
        "    train_loss = train_loss/len(train_loader)\n",
        "    val_loss = 0.0\n",
        "    model.eval()\n",
        "    with torch.no_grad():\n",
        "        for images, labels in val_loader:\n",
        "            images = images.to(device)\n",
        "            label_idxs = [class_to_idx[label] for label in labels]\n",
        "            label_tensor = torch.tensor(label_idxs).to(device)\n",
        "\n",
        "            outputs = model(images)\n",
        "            loss = criterion(outputs, label_tensor)\n",
        "            val_loss += loss.item()\n",
        "\n",
        "    val_loss = val_loss/len(val_loader)\n",
        "    return train_loss, val_loss"
      ]
    },
    {
      "cell_type": "code",
      "execution_count": 34,
      "metadata": {
        "id": "zPn2X-r2rLPI"
      },
      "outputs": [],
      "source": [
        "def train(data_loaders, model, optimizer, criterion, epochs, class_to_idx, early_stopping_patience, lr):\n",
        "    best_val_loss = torch.inf\n",
        "    epochs_without_improvement = 0\n",
        "    total_samples = len(data_loaders.dataset)\n",
        "    split_1_size = int(0.2 * total_samples)\n",
        "\n",
        "    for epoch in range(epochs):\n",
        "        train_loss =0; val_loss=0\n",
        "        for i in range(5):\n",
        "            start_index = i * split_1_size\n",
        "            end_index = start_index + split_1_size\n",
        "\n",
        "            split_1_indices = list(range(start_index, end_index))\n",
        "            split_2_indices = list(range(0, start_index)) + list(range(end_index, total_samples))\n",
        "\n",
        "            validation_loader = DataLoader(Subset(data_loaders.dataset, split_1_indices), batch_size=32, shuffle=True)\n",
        "            train_loader_ = DataLoader(Subset(data_loaders.dataset, split_2_indices), batch_size=32, shuffle=True)\n",
        "\n",
        "            temp_train_loss, temp_val_loss = epoch_one_train(model, train_loader_,\n",
        "                                                   validation_loader, optimizer,\n",
        "                                                   criterion, class_to_idx, lr)\n",
        "            train_loss += temp_train_loss\n",
        "            val_loss += temp_val_loss\n",
        "\n",
        "        print(f\"Epoch {epoch+1}/{epochs}, Train Loss: {train_loss/5:.4f}, Val Loss: {val_loss/5:.4f}\")\n",
        "\n",
        "        if val_loss < best_val_loss:\n",
        "            best_val_loss = val_loss\n",
        "            epochs_without_improvement = 0\n",
        "        else:\n",
        "            epochs_without_improvement += 1\n",
        "            if epochs_without_improvement >= early_stopping_patience:\n",
        "                print(f\"Early stopping at epoch {epoch+1}!\")\n",
        "                break\n",
        "    return model"
      ]
    },
    {
      "cell_type": "code",
      "execution_count": 35,
      "metadata": {
        "id": "uG9mHIoQQaW7"
      },
      "outputs": [],
      "source": [
        "def calculate_accuracy(model, test_loader, class_to_idx):\n",
        "    correct = 0\n",
        "    total = 0\n",
        "    model.eval()\n",
        "    with torch.no_grad():\n",
        "        for images, labels in test_loader:\n",
        "            images = images.to(device)\n",
        "            label_idxs = [class_to_idx[label] for label in labels]\n",
        "            label_tensor = torch.tensor(label_idxs).to(device)\n",
        "\n",
        "            outputs = model(images)\n",
        "            _, predicted = torch.max(outputs.data, 1)\n",
        "            total += label_tensor.size(0)\n",
        "            correct += (predicted == label_tensor).sum().item()\n",
        "\n",
        "    accuracy = correct / total\n",
        "    return accuracy"
      ]
    },
    {
      "cell_type": "code",
      "execution_count": 51,
      "metadata": {
        "id": "azGNWGDyZw4o"
      },
      "outputs": [],
      "source": [
        "def find_best_alpha(train_loader, val_loader, model, optimizer, criterion, epochs, class_to_idx, early_stopping_patience, lr):\n",
        "    best_train_loss = torch.inf\n",
        "    epochs_without_improvement = 0\n",
        "    wandb.init(config={\"learning_rate\": lr})\n",
        "\n",
        "    for epoch in range(epochs):\n",
        "        model.train()\n",
        "        train_loss = 0.0\n",
        "        for images, labels in train_loader:\n",
        "            images = images.to(device)\n",
        "            label_idxs = [class_to_idx[label] for label in labels]\n",
        "            label_tensor = torch.tensor(label_idxs).to(device)\n",
        "\n",
        "            optimizer.zero_grad()\n",
        "            outputs = model(images)\n",
        "            loss = criterion(outputs, label_tensor)\n",
        "            loss.backward()\n",
        "            optimizer.step()\n",
        "\n",
        "            train_loss += loss.item()\n",
        "\n",
        "        train_loss /= len(train_loader)\n",
        "\n",
        "        val_loss = 0.0\n",
        "        model.eval()\n",
        "        with torch.no_grad():\n",
        "            for images, labels in val_loader:\n",
        "                images = images.to(device)\n",
        "                label_idxs = [class_to_idx[label] for label in labels]\n",
        "                label_tensor = torch.tensor(label_idxs).to(device)\n",
        "\n",
        "                outputs = model(images)\n",
        "                loss = criterion(outputs, label_tensor)\n",
        "\n",
        "                val_loss += loss.item()\n",
        "\n",
        "        val_loss /= len(val_loader)\n",
        "\n",
        "        wandb.log({\"epoch\": epoch, \"train_loss\": train_loss, \"val_loss\": val_loss})\n",
        "        print(f\"Epoch {epoch+1}/{epochs}, Train Loss: {train_loss:.4f}, Val Loss: {val_loss:.4f}\")\n",
        "\n",
        "        if val_loss < best_train_loss:\n",
        "            best_train_loss = val_loss\n",
        "            epochs_without_improvement = 0\n",
        "        else:\n",
        "            epochs_without_improvement += 1\n",
        "            if epochs_without_improvement >= early_stopping_patience:\n",
        "                print(f\"Early stopping at epoch {epoch+1}!\")\n",
        "                break\n",
        "\n",
        "    test_accuracy = calculate_accuracy(model, test_loader, class_to_idx)\n",
        "    wandb.run.summary[\"test_accuracy\"] = test_accuracy\n",
        "\n",
        "    wandb.finish()\n",
        "    return model\n"
      ]
    },
    {
      "cell_type": "code",
      "execution_count": 52,
      "metadata": {
        "colab": {
          "base_uri": "https://localhost:8080/"
        },
        "id": "5YA6DitUeCgh",
        "outputId": "643ce45f-9f23-4bd0-9067-fb595950d579"
      },
      "outputs": [
        {
          "name": "stdout",
          "output_type": "stream",
          "text": [
            "Create sweep with ID: bp0191dl\n",
            "Sweep URL: https://wandb.ai/ali_taheri/uncategorized/sweeps/bp0191dl\n"
          ]
        }
      ],
      "source": [
        "sweep_configuration = {\n",
        "    'method': 'bayes',\n",
        "    'name': 'sweep2p',\n",
        "    'metric': {\n",
        "        'goal': 'minimize',\n",
        "        'name': 'loss'\n",
        "    },\n",
        "    'parameters': {\n",
        "        'learning_rate': {\n",
        "            'values': [0.0001, 0.00005]\n",
        "        }\n",
        "    }\n",
        "}\n",
        "\n",
        "sweep_id = wandb.sweep(sweep_configuration)"
      ]
    },
    {
      "cell_type": "code",
      "execution_count": 53,
      "metadata": {
        "colab": {
          "base_uri": "https://localhost:8080/",
          "height": 1000,
          "referenced_widgets": [
            "eedb7973bce64b088c90701f1162546f",
            "bfb1db1af153436ab6878989df57547e",
            "f7c933e49c364fd098717302b2e83d79",
            "67948def2d284ddb9f3fb3076133b067",
            "8ca53682891e404eab0517a676561d3b",
            "41c9de210f654463833c46cbd5ecff83",
            "cdba53509bca4fd1a70f4e20f64ddf66",
            "32bce373f68f4d1599f25006ef36b202",
            "299c02d5acdd4bb2970a1a10a5b615ef",
            "0f93aceb8b6544439d4298836315de37",
            "6e4899f330c3487f84ce09acc465285f",
            "1fe35f66f450424db533a409465378b7",
            "4852d3ff892246b79fe0e89767cc34fe",
            "c3becafc2236445a918db20c439fe834",
            "657a960f0bd0407e95dc3425b167e4e4",
            "e789a88897354d9aba111d13eca581a0",
            "85dd998b09404241b71ae1c27259d238",
            "09e78325cb2441ffb5993b47a7a65c19",
            "9e661ab61b1342479c61ffa5fbe0aa3d",
            "d10e753e0bf94a80958a7922cc152017",
            "a6262f57060f4c8c87f62297230b5a32",
            "25f23cd6dc6640009daa86537f2a7199",
            "fd08bcefe9f741a0bf67cd1dadf906ef",
            "909e080675ca4c099862857a1dea7f4d",
            "cd630bfaaef94f93bd057913abcdb6b0",
            "2fef4a336ca1453eb99ea4808dad894a",
            "2bbe65276c3c40f680ea2f0a93690371",
            "8b40889683ac495291b84af0bff3f1be",
            "d1eeebfe5ef541f29175433cfcab53f5",
            "f0c7f1177d8b4307b5c5410507524460",
            "2622d6f6b6d046dc8132adbf4647324f",
            "b6334a7dda5e446a95eeae7c5e8ba7c1"
          ]
        },
        "id": "okBMnTuZbujR",
        "outputId": "5b4518dd-9b4b-4e5f-9c29-c32e11da8db6"
      },
      "outputs": [
        {
          "name": "stderr",
          "output_type": "stream",
          "text": [
            "\u001b[34m\u001b[1mwandb\u001b[0m: Agent Starting Run: rhyzz30w with config:\n",
            "\u001b[34m\u001b[1mwandb\u001b[0m: \tlearning_rate: 0.0001\n"
          ]
        },
        {
          "data": {
            "text/html": [
              "Tracking run with wandb version 0.17.0"
            ],
            "text/plain": [
              "<IPython.core.display.HTML object>"
            ]
          },
          "metadata": {},
          "output_type": "display_data"
        },
        {
          "data": {
            "text/html": [
              "Run data is saved locally in <code>/content/wandb/run-20240519_112925-rhyzz30w</code>"
            ],
            "text/plain": [
              "<IPython.core.display.HTML object>"
            ]
          },
          "metadata": {},
          "output_type": "display_data"
        },
        {
          "data": {
            "text/html": [
              "Syncing run <strong><a href='https://wandb.ai/ali_taheri/uncategorized/runs/rhyzz30w' target=\"_blank\">misunderstood-sweep-1</a></strong> to <a href='https://wandb.ai/ali_taheri/uncategorized' target=\"_blank\">Weights & Biases</a> (<a href='https://wandb.me/run' target=\"_blank\">docs</a>)<br/>Sweep page: <a href='https://wandb.ai/ali_taheri/uncategorized/sweeps/bp0191dl' target=\"_blank\">https://wandb.ai/ali_taheri/uncategorized/sweeps/bp0191dl</a>"
            ],
            "text/plain": [
              "<IPython.core.display.HTML object>"
            ]
          },
          "metadata": {},
          "output_type": "display_data"
        },
        {
          "data": {
            "text/html": [
              " View project at <a href='https://wandb.ai/ali_taheri/uncategorized' target=\"_blank\">https://wandb.ai/ali_taheri/uncategorized</a>"
            ],
            "text/plain": [
              "<IPython.core.display.HTML object>"
            ]
          },
          "metadata": {},
          "output_type": "display_data"
        },
        {
          "data": {
            "text/html": [
              " View sweep at <a href='https://wandb.ai/ali_taheri/uncategorized/sweeps/bp0191dl' target=\"_blank\">https://wandb.ai/ali_taheri/uncategorized/sweeps/bp0191dl</a>"
            ],
            "text/plain": [
              "<IPython.core.display.HTML object>"
            ]
          },
          "metadata": {},
          "output_type": "display_data"
        },
        {
          "data": {
            "text/html": [
              " View run at <a href='https://wandb.ai/ali_taheri/uncategorized/runs/rhyzz30w' target=\"_blank\">https://wandb.ai/ali_taheri/uncategorized/runs/rhyzz30w</a>"
            ],
            "text/plain": [
              "<IPython.core.display.HTML object>"
            ]
          },
          "metadata": {},
          "output_type": "display_data"
        },
        {
          "data": {
            "text/html": [
              "Finishing last run (ID:rhyzz30w) before initializing another..."
            ],
            "text/plain": [
              "<IPython.core.display.HTML object>"
            ]
          },
          "metadata": {},
          "output_type": "display_data"
        },
        {
          "data": {
            "application/vnd.jupyter.widget-view+json": {
              "model_id": "eedb7973bce64b088c90701f1162546f",
              "version_major": 2,
              "version_minor": 0
            },
            "text/plain": [
              "VBox(children=(Label(value='0.011 MB of 0.011 MB uploaded\\r'), FloatProgress(value=1.0, max=1.0)))"
            ]
          },
          "metadata": {},
          "output_type": "display_data"
        },
        {
          "data": {
            "text/html": [
              " View run <strong style=\"color:#cdcd00\">misunderstood-sweep-1</strong> at: <a href='https://wandb.ai/ali_taheri/uncategorized/runs/rhyzz30w' target=\"_blank\">https://wandb.ai/ali_taheri/uncategorized/runs/rhyzz30w</a><br/> View project at: <a href='https://wandb.ai/ali_taheri/uncategorized' target=\"_blank\">https://wandb.ai/ali_taheri/uncategorized</a><br/>Synced 4 W&B file(s), 0 media file(s), 0 artifact file(s) and 0 other file(s)"
            ],
            "text/plain": [
              "<IPython.core.display.HTML object>"
            ]
          },
          "metadata": {},
          "output_type": "display_data"
        },
        {
          "data": {
            "text/html": [
              "Find logs at: <code>./wandb/run-20240519_112925-rhyzz30w/logs</code>"
            ],
            "text/plain": [
              "<IPython.core.display.HTML object>"
            ]
          },
          "metadata": {},
          "output_type": "display_data"
        },
        {
          "data": {
            "text/html": [
              "Successfully finished last run (ID:rhyzz30w). Initializing new run:<br/>"
            ],
            "text/plain": [
              "<IPython.core.display.HTML object>"
            ]
          },
          "metadata": {},
          "output_type": "display_data"
        },
        {
          "data": {
            "text/html": [
              "Tracking run with wandb version 0.17.0"
            ],
            "text/plain": [
              "<IPython.core.display.HTML object>"
            ]
          },
          "metadata": {},
          "output_type": "display_data"
        },
        {
          "data": {
            "text/html": [
              "Run data is saved locally in <code>/content/wandb/run-20240519_112927-rhyzz30w</code>"
            ],
            "text/plain": [
              "<IPython.core.display.HTML object>"
            ]
          },
          "metadata": {},
          "output_type": "display_data"
        },
        {
          "data": {
            "text/html": [
              "Syncing run <strong><a href='https://wandb.ai/ali_taheri/uncategorized/runs/rhyzz30w' target=\"_blank\">misunderstood-sweep-1</a></strong> to <a href='https://wandb.ai/ali_taheri/uncategorized' target=\"_blank\">Weights & Biases</a> (<a href='https://wandb.me/run' target=\"_blank\">docs</a>)<br/>Sweep page: <a href='https://wandb.ai/ali_taheri/uncategorized/sweeps/bp0191dl' target=\"_blank\">https://wandb.ai/ali_taheri/uncategorized/sweeps/bp0191dl</a>"
            ],
            "text/plain": [
              "<IPython.core.display.HTML object>"
            ]
          },
          "metadata": {},
          "output_type": "display_data"
        },
        {
          "data": {
            "text/html": [
              " View project at <a href='https://wandb.ai/ali_taheri/uncategorized' target=\"_blank\">https://wandb.ai/ali_taheri/uncategorized</a>"
            ],
            "text/plain": [
              "<IPython.core.display.HTML object>"
            ]
          },
          "metadata": {},
          "output_type": "display_data"
        },
        {
          "data": {
            "text/html": [
              " View sweep at <a href='https://wandb.ai/ali_taheri/uncategorized/sweeps/bp0191dl' target=\"_blank\">https://wandb.ai/ali_taheri/uncategorized/sweeps/bp0191dl</a>"
            ],
            "text/plain": [
              "<IPython.core.display.HTML object>"
            ]
          },
          "metadata": {},
          "output_type": "display_data"
        },
        {
          "data": {
            "text/html": [
              " View run at <a href='https://wandb.ai/ali_taheri/uncategorized/runs/rhyzz30w' target=\"_blank\">https://wandb.ai/ali_taheri/uncategorized/runs/rhyzz30w</a>"
            ],
            "text/plain": [
              "<IPython.core.display.HTML object>"
            ]
          },
          "metadata": {},
          "output_type": "display_data"
        },
        {
          "name": "stdout",
          "output_type": "stream",
          "text": [
            "Epoch 1/200, Train Loss: 1.0085, Val Loss: 0.3780\n",
            "Epoch 2/200, Train Loss: 0.3290, Val Loss: 0.2036\n",
            "Epoch 3/200, Train Loss: 0.2063, Val Loss: 0.1458\n",
            "Epoch 4/200, Train Loss: 0.1536, Val Loss: 0.1191\n",
            "Epoch 5/200, Train Loss: 0.1272, Val Loss: 0.1061\n",
            "Epoch 6/200, Train Loss: 0.1042, Val Loss: 0.0973\n",
            "Epoch 7/200, Train Loss: 0.0922, Val Loss: 0.0877\n",
            "Epoch 8/200, Train Loss: 0.0818, Val Loss: 0.0771\n",
            "Epoch 9/200, Train Loss: 0.0706, Val Loss: 0.0709\n",
            "Epoch 10/200, Train Loss: 0.0595, Val Loss: 0.0722\n",
            "Epoch 11/200, Train Loss: 0.0556, Val Loss: 0.0653\n",
            "Epoch 12/200, Train Loss: 0.0479, Val Loss: 0.0663\n",
            "Epoch 13/200, Train Loss: 0.0440, Val Loss: 0.0650\n",
            "Epoch 14/200, Train Loss: 0.0385, Val Loss: 0.0697\n",
            "Epoch 15/200, Train Loss: 0.0365, Val Loss: 0.0631\n",
            "Epoch 16/200, Train Loss: 0.0340, Val Loss: 0.0599\n",
            "Epoch 17/200, Train Loss: 0.0282, Val Loss: 0.0573\n",
            "Epoch 18/200, Train Loss: 0.0279, Val Loss: 0.0573\n",
            "Epoch 19/200, Train Loss: 0.0246, Val Loss: 0.0594\n",
            "Epoch 20/200, Train Loss: 0.0242, Val Loss: 0.0651\n",
            "Epoch 21/200, Train Loss: 0.0216, Val Loss: 0.0631\n",
            "Early stopping at epoch 21!\n"
          ]
        },
        {
          "data": {
            "application/vnd.jupyter.widget-view+json": {
              "model_id": "299c02d5acdd4bb2970a1a10a5b615ef",
              "version_major": 2,
              "version_minor": 0
            },
            "text/plain": [
              "VBox(children=(Label(value='0.001 MB of 0.001 MB uploaded\\r'), FloatProgress(value=1.0, max=1.0)))"
            ]
          },
          "metadata": {},
          "output_type": "display_data"
        },
        {
          "data": {
            "text/html": [
              "<style>\n",
              "    table.wandb td:nth-child(1) { padding: 0 10px; text-align: left ; width: auto;} td:nth-child(2) {text-align: left ; width: 100%}\n",
              "    .wandb-row { display: flex; flex-direction: row; flex-wrap: wrap; justify-content: flex-start; width: 100% }\n",
              "    .wandb-col { display: flex; flex-direction: column; flex-basis: 100%; flex: 1; padding: 10px; }\n",
              "    </style>\n",
              "<div class=\"wandb-row\"><div class=\"wandb-col\"><h3>Run history:</h3><br/><table class=\"wandb\"><tr><td>epoch</td><td>▁▁▂▂▂▃▃▃▄▄▅▅▅▆▆▆▇▇▇██</td></tr><tr><td>train_loss</td><td>█▃▂▂▂▂▂▁▁▁▁▁▁▁▁▁▁▁▁▁▁</td></tr><tr><td>val_loss</td><td>█▄▃▂▂▂▂▁▁▁▁▁▁▁▁▁▁▁▁▁▁</td></tr></table><br/></div><div class=\"wandb-col\"><h3>Run summary:</h3><br/><table class=\"wandb\"><tr><td>epoch</td><td>20</td></tr><tr><td>test_accuracy</td><td>0.98296</td></tr><tr><td>train_loss</td><td>0.02159</td></tr><tr><td>val_loss</td><td>0.06307</td></tr></table><br/></div></div>"
            ],
            "text/plain": [
              "<IPython.core.display.HTML object>"
            ]
          },
          "metadata": {},
          "output_type": "display_data"
        },
        {
          "data": {
            "text/html": [
              " View run <strong style=\"color:#cdcd00\">misunderstood-sweep-1</strong> at: <a href='https://wandb.ai/ali_taheri/uncategorized/runs/rhyzz30w' target=\"_blank\">https://wandb.ai/ali_taheri/uncategorized/runs/rhyzz30w</a><br/> View project at: <a href='https://wandb.ai/ali_taheri/uncategorized' target=\"_blank\">https://wandb.ai/ali_taheri/uncategorized</a><br/>Synced 5 W&B file(s), 0 media file(s), 0 artifact file(s) and 0 other file(s)"
            ],
            "text/plain": [
              "<IPython.core.display.HTML object>"
            ]
          },
          "metadata": {},
          "output_type": "display_data"
        },
        {
          "data": {
            "text/html": [
              "Find logs at: <code>./wandb/run-20240519_112927-rhyzz30w/logs</code>"
            ],
            "text/plain": [
              "<IPython.core.display.HTML object>"
            ]
          },
          "metadata": {},
          "output_type": "display_data"
        },
        {
          "name": "stderr",
          "output_type": "stream",
          "text": [
            "\u001b[34m\u001b[1mwandb\u001b[0m: Agent Starting Run: fas2i1mb with config:\n",
            "\u001b[34m\u001b[1mwandb\u001b[0m: \tlearning_rate: 0.0001\n"
          ]
        },
        {
          "data": {
            "text/html": [
              "Tracking run with wandb version 0.17.0"
            ],
            "text/plain": [
              "<IPython.core.display.HTML object>"
            ]
          },
          "metadata": {},
          "output_type": "display_data"
        },
        {
          "data": {
            "text/html": [
              "Run data is saved locally in <code>/content/wandb/run-20240519_113021-fas2i1mb</code>"
            ],
            "text/plain": [
              "<IPython.core.display.HTML object>"
            ]
          },
          "metadata": {},
          "output_type": "display_data"
        },
        {
          "data": {
            "text/html": [
              "Syncing run <strong><a href='https://wandb.ai/ali_taheri/uncategorized/runs/fas2i1mb' target=\"_blank\">daily-sweep-2</a></strong> to <a href='https://wandb.ai/ali_taheri/uncategorized' target=\"_blank\">Weights & Biases</a> (<a href='https://wandb.me/run' target=\"_blank\">docs</a>)<br/>Sweep page: <a href='https://wandb.ai/ali_taheri/uncategorized/sweeps/bp0191dl' target=\"_blank\">https://wandb.ai/ali_taheri/uncategorized/sweeps/bp0191dl</a>"
            ],
            "text/plain": [
              "<IPython.core.display.HTML object>"
            ]
          },
          "metadata": {},
          "output_type": "display_data"
        },
        {
          "data": {
            "text/html": [
              " View project at <a href='https://wandb.ai/ali_taheri/uncategorized' target=\"_blank\">https://wandb.ai/ali_taheri/uncategorized</a>"
            ],
            "text/plain": [
              "<IPython.core.display.HTML object>"
            ]
          },
          "metadata": {},
          "output_type": "display_data"
        },
        {
          "data": {
            "text/html": [
              " View sweep at <a href='https://wandb.ai/ali_taheri/uncategorized/sweeps/bp0191dl' target=\"_blank\">https://wandb.ai/ali_taheri/uncategorized/sweeps/bp0191dl</a>"
            ],
            "text/plain": [
              "<IPython.core.display.HTML object>"
            ]
          },
          "metadata": {},
          "output_type": "display_data"
        },
        {
          "data": {
            "text/html": [
              " View run at <a href='https://wandb.ai/ali_taheri/uncategorized/runs/fas2i1mb' target=\"_blank\">https://wandb.ai/ali_taheri/uncategorized/runs/fas2i1mb</a>"
            ],
            "text/plain": [
              "<IPython.core.display.HTML object>"
            ]
          },
          "metadata": {},
          "output_type": "display_data"
        },
        {
          "data": {
            "text/html": [
              "Finishing last run (ID:fas2i1mb) before initializing another..."
            ],
            "text/plain": [
              "<IPython.core.display.HTML object>"
            ]
          },
          "metadata": {},
          "output_type": "display_data"
        },
        {
          "data": {
            "application/vnd.jupyter.widget-view+json": {
              "model_id": "85dd998b09404241b71ae1c27259d238",
              "version_major": 2,
              "version_minor": 0
            },
            "text/plain": [
              "VBox(children=(Label(value='0.011 MB of 0.011 MB uploaded\\r'), FloatProgress(value=1.0, max=1.0)))"
            ]
          },
          "metadata": {},
          "output_type": "display_data"
        },
        {
          "data": {
            "text/html": [
              " View run <strong style=\"color:#cdcd00\">daily-sweep-2</strong> at: <a href='https://wandb.ai/ali_taheri/uncategorized/runs/fas2i1mb' target=\"_blank\">https://wandb.ai/ali_taheri/uncategorized/runs/fas2i1mb</a><br/> View project at: <a href='https://wandb.ai/ali_taheri/uncategorized' target=\"_blank\">https://wandb.ai/ali_taheri/uncategorized</a><br/>Synced 4 W&B file(s), 0 media file(s), 0 artifact file(s) and 0 other file(s)"
            ],
            "text/plain": [
              "<IPython.core.display.HTML object>"
            ]
          },
          "metadata": {},
          "output_type": "display_data"
        },
        {
          "data": {
            "text/html": [
              "Find logs at: <code>./wandb/run-20240519_113021-fas2i1mb/logs</code>"
            ],
            "text/plain": [
              "<IPython.core.display.HTML object>"
            ]
          },
          "metadata": {},
          "output_type": "display_data"
        },
        {
          "data": {
            "text/html": [
              "Successfully finished last run (ID:fas2i1mb). Initializing new run:<br/>"
            ],
            "text/plain": [
              "<IPython.core.display.HTML object>"
            ]
          },
          "metadata": {},
          "output_type": "display_data"
        },
        {
          "data": {
            "text/html": [
              "Tracking run with wandb version 0.17.0"
            ],
            "text/plain": [
              "<IPython.core.display.HTML object>"
            ]
          },
          "metadata": {},
          "output_type": "display_data"
        },
        {
          "data": {
            "text/html": [
              "Run data is saved locally in <code>/content/wandb/run-20240519_113024-fas2i1mb</code>"
            ],
            "text/plain": [
              "<IPython.core.display.HTML object>"
            ]
          },
          "metadata": {},
          "output_type": "display_data"
        },
        {
          "data": {
            "text/html": [
              "Syncing run <strong><a href='https://wandb.ai/ali_taheri/uncategorized/runs/fas2i1mb' target=\"_blank\">daily-sweep-2</a></strong> to <a href='https://wandb.ai/ali_taheri/uncategorized' target=\"_blank\">Weights & Biases</a> (<a href='https://wandb.me/run' target=\"_blank\">docs</a>)<br/>Sweep page: <a href='https://wandb.ai/ali_taheri/uncategorized/sweeps/bp0191dl' target=\"_blank\">https://wandb.ai/ali_taheri/uncategorized/sweeps/bp0191dl</a>"
            ],
            "text/plain": [
              "<IPython.core.display.HTML object>"
            ]
          },
          "metadata": {},
          "output_type": "display_data"
        },
        {
          "data": {
            "text/html": [
              " View project at <a href='https://wandb.ai/ali_taheri/uncategorized' target=\"_blank\">https://wandb.ai/ali_taheri/uncategorized</a>"
            ],
            "text/plain": [
              "<IPython.core.display.HTML object>"
            ]
          },
          "metadata": {},
          "output_type": "display_data"
        },
        {
          "data": {
            "text/html": [
              " View sweep at <a href='https://wandb.ai/ali_taheri/uncategorized/sweeps/bp0191dl' target=\"_blank\">https://wandb.ai/ali_taheri/uncategorized/sweeps/bp0191dl</a>"
            ],
            "text/plain": [
              "<IPython.core.display.HTML object>"
            ]
          },
          "metadata": {},
          "output_type": "display_data"
        },
        {
          "data": {
            "text/html": [
              " View run at <a href='https://wandb.ai/ali_taheri/uncategorized/runs/fas2i1mb' target=\"_blank\">https://wandb.ai/ali_taheri/uncategorized/runs/fas2i1mb</a>"
            ],
            "text/plain": [
              "<IPython.core.display.HTML object>"
            ]
          },
          "metadata": {},
          "output_type": "display_data"
        },
        {
          "name": "stdout",
          "output_type": "stream",
          "text": [
            "Epoch 1/200, Train Loss: 1.0796, Val Loss: 0.4518\n",
            "Epoch 2/200, Train Loss: 0.3755, Val Loss: 0.2433\n",
            "Epoch 3/200, Train Loss: 0.2258, Val Loss: 0.1623\n",
            "Epoch 4/200, Train Loss: 0.1692, Val Loss: 0.1332\n",
            "Epoch 5/200, Train Loss: 0.1319, Val Loss: 0.1187\n",
            "Epoch 6/200, Train Loss: 0.1139, Val Loss: 0.1060\n",
            "Epoch 7/200, Train Loss: 0.0993, Val Loss: 0.0858\n",
            "Epoch 8/200, Train Loss: 0.0849, Val Loss: 0.0862\n",
            "Epoch 9/200, Train Loss: 0.0745, Val Loss: 0.0769\n",
            "Epoch 10/200, Train Loss: 0.0672, Val Loss: 0.0749\n",
            "Epoch 11/200, Train Loss: 0.0568, Val Loss: 0.0750\n",
            "Epoch 12/200, Train Loss: 0.0553, Val Loss: 0.0700\n",
            "Epoch 13/200, Train Loss: 0.0465, Val Loss: 0.0648\n",
            "Epoch 14/200, Train Loss: 0.0434, Val Loss: 0.0651\n",
            "Epoch 15/200, Train Loss: 0.0403, Val Loss: 0.0656\n",
            "Epoch 16/200, Train Loss: 0.0376, Val Loss: 0.0642\n",
            "Epoch 17/200, Train Loss: 0.0330, Val Loss: 0.0716\n",
            "Epoch 18/200, Train Loss: 0.0299, Val Loss: 0.0625\n",
            "Epoch 19/200, Train Loss: 0.0269, Val Loss: 0.0683\n",
            "Epoch 20/200, Train Loss: 0.0281, Val Loss: 0.0634\n",
            "Epoch 21/200, Train Loss: 0.0225, Val Loss: 0.0629\n",
            "Early stopping at epoch 21!\n"
          ]
        },
        {
          "data": {
            "application/vnd.jupyter.widget-view+json": {
              "model_id": "cd630bfaaef94f93bd057913abcdb6b0",
              "version_major": 2,
              "version_minor": 0
            },
            "text/plain": [
              "VBox(children=(Label(value='0.001 MB of 0.001 MB uploaded\\r'), FloatProgress(value=1.0, max=1.0)))"
            ]
          },
          "metadata": {},
          "output_type": "display_data"
        },
        {
          "data": {
            "text/html": [
              "<style>\n",
              "    table.wandb td:nth-child(1) { padding: 0 10px; text-align: left ; width: auto;} td:nth-child(2) {text-align: left ; width: 100%}\n",
              "    .wandb-row { display: flex; flex-direction: row; flex-wrap: wrap; justify-content: flex-start; width: 100% }\n",
              "    .wandb-col { display: flex; flex-direction: column; flex-basis: 100%; flex: 1; padding: 10px; }\n",
              "    </style>\n",
              "<div class=\"wandb-row\"><div class=\"wandb-col\"><h3>Run history:</h3><br/><table class=\"wandb\"><tr><td>epoch</td><td>▁▁▂▂▂▃▃▃▄▄▅▅▅▆▆▆▇▇▇██</td></tr><tr><td>train_loss</td><td>█▃▂▂▂▂▂▁▁▁▁▁▁▁▁▁▁▁▁▁▁</td></tr><tr><td>val_loss</td><td>█▄▃▂▂▂▁▁▁▁▁▁▁▁▁▁▁▁▁▁▁</td></tr></table><br/></div><div class=\"wandb-col\"><h3>Run summary:</h3><br/><table class=\"wandb\"><tr><td>epoch</td><td>20</td></tr><tr><td>test_accuracy</td><td>0.98222</td></tr><tr><td>train_loss</td><td>0.02255</td></tr><tr><td>val_loss</td><td>0.06291</td></tr></table><br/></div></div>"
            ],
            "text/plain": [
              "<IPython.core.display.HTML object>"
            ]
          },
          "metadata": {},
          "output_type": "display_data"
        },
        {
          "data": {
            "text/html": [
              " View run <strong style=\"color:#cdcd00\">daily-sweep-2</strong> at: <a href='https://wandb.ai/ali_taheri/uncategorized/runs/fas2i1mb' target=\"_blank\">https://wandb.ai/ali_taheri/uncategorized/runs/fas2i1mb</a><br/> View project at: <a href='https://wandb.ai/ali_taheri/uncategorized' target=\"_blank\">https://wandb.ai/ali_taheri/uncategorized</a><br/>Synced 5 W&B file(s), 0 media file(s), 0 artifact file(s) and 0 other file(s)"
            ],
            "text/plain": [
              "<IPython.core.display.HTML object>"
            ]
          },
          "metadata": {},
          "output_type": "display_data"
        },
        {
          "data": {
            "text/html": [
              "Find logs at: <code>./wandb/run-20240519_113024-fas2i1mb/logs</code>"
            ],
            "text/plain": [
              "<IPython.core.display.HTML object>"
            ]
          },
          "metadata": {},
          "output_type": "display_data"
        }
      ],
      "source": [
        "def sweep_agent():\n",
        "    wandb.init()\n",
        "    config = wandb.config\n",
        "\n",
        "    model = BestFitModel(num_classes=18).to(device)\n",
        "    loss_fn = nn.CrossEntropyLoss()\n",
        "\n",
        "    optimizer = torch.optim.Adam(model.parameters(), lr=config.learning_rate)\n",
        "\n",
        "    model = find_best_alpha(\n",
        "        train_loader,\n",
        "        val_loader,\n",
        "        model,\n",
        "        optimizer,\n",
        "        loss_fn,\n",
        "        epochs=200,\n",
        "        class_to_idx=class_to_idx,\n",
        "        early_stopping_patience=3,\n",
        "        lr=config.learning_rate\n",
        "    )\n",
        "\n",
        "wandb.agent(sweep_id, function=sweep_agent, count=2)"
      ]
    },
    {
      "cell_type": "markdown",
      "metadata": {
        "id": "wr4pn02wiOLy"
      },
      "source": [
        "همانطور که مشخص است از نمودار های ابزار وان دی بی میتوان متوجه شد که مدل دوم\n",
        "یکمی بهتر از مدل اول است(تفاوت صرفا در نرخ یادگیری است)\n",
        "پس با همان نرخ یادگیری مدل را ترین میکنیم"
      ]
    },
    {
      "cell_type": "markdown",
      "metadata": {},
      "source": [
        "1. Directly Measures Classification Accuracy:\n",
        "   - Unlike mean squared error (MSE) that penalizes errors in a continuous fashion, cross-entropy loss directly focuses on the task of classifying correctly. It punishes incorrect predictions more heavily than correct ones.\n",
        "\n",
        "2. Handles Multiple Classes:\n",
        "   - Cross-entropy is highly effective for multi-class classification problems (where you have more than two classes). For example, image recognition with thousands of potential object categories"
      ]
    },
    {
      "cell_type": "code",
      "execution_count": 39,
      "metadata": {
        "colab": {
          "base_uri": "https://localhost:8080/"
        },
        "id": "mR7MB7Zog8Ax",
        "outputId": "48f0b016-15e4-4825-ad4d-ab9e559dd355"
      },
      "outputs": [
        {
          "name": "stdout",
          "output_type": "stream",
          "text": [
            "Training with Learning Rate: 0.0001\n",
            "Epoch 1/200, Train Loss: 0.3640, Val Loss: 0.3459\n",
            "Epoch 2/200, Train Loss: 0.0855, Val Loss: 0.1184\n",
            "Epoch 3/200, Train Loss: 0.0504, Val Loss: 0.0640\n",
            "Epoch 4/200, Train Loss: 0.0331, Val Loss: 0.0488\n",
            "Epoch 5/200, Train Loss: 0.0230, Val Loss: 0.0296\n",
            "Epoch 6/200, Train Loss: 0.0179, Val Loss: 0.0136\n",
            "Epoch 7/200, Train Loss: 0.0138, Val Loss: 0.0107\n",
            "Epoch 8/200, Train Loss: 0.0109, Val Loss: 0.0113\n",
            "Epoch 9/200, Train Loss: 0.0093, Val Loss: 0.0079\n",
            "Epoch 10/200, Train Loss: 0.0075, Val Loss: 0.0090\n",
            "Epoch 11/200, Train Loss: 0.0063, Val Loss: 0.0067\n",
            "Epoch 12/200, Train Loss: 0.0056, Val Loss: 0.0046\n",
            "Epoch 13/200, Train Loss: 0.0049, Val Loss: 0.0030\n",
            "Epoch 14/200, Train Loss: 0.0043, Val Loss: 0.0033\n",
            "Epoch 15/200, Train Loss: 0.0041, Val Loss: 0.0045\n",
            "Epoch 16/200, Train Loss: 0.0042, Val Loss: 0.0018\n",
            "Epoch 17/200, Train Loss: 0.0031, Val Loss: 0.0030\n",
            "Epoch 18/200, Train Loss: 0.0029, Val Loss: 0.0016\n",
            "Epoch 19/200, Train Loss: 0.0027, Val Loss: 0.0013\n",
            "Epoch 20/200, Train Loss: 0.0026, Val Loss: 0.0009\n",
            "Epoch 21/200, Train Loss: 0.0027, Val Loss: 0.0012\n",
            "Epoch 22/200, Train Loss: 0.0024, Val Loss: 0.0008\n",
            "Epoch 23/200, Train Loss: 0.0019, Val Loss: 0.0006\n",
            "Epoch 24/200, Train Loss: 0.0020, Val Loss: 0.0011\n",
            "Epoch 25/200, Train Loss: 0.0015, Val Loss: 0.0005\n",
            "Epoch 26/200, Train Loss: 0.0018, Val Loss: 0.0012\n",
            "Epoch 27/200, Train Loss: 0.0016, Val Loss: 0.0006\n",
            "Epoch 28/200, Train Loss: 0.0016, Val Loss: 0.0003\n",
            "Epoch 29/200, Train Loss: 0.0015, Val Loss: 0.0003\n",
            "Epoch 30/200, Train Loss: 0.0015, Val Loss: 0.0002\n",
            "Epoch 31/200, Train Loss: 0.0012, Val Loss: 0.0018\n",
            "Epoch 32/200, Train Loss: 0.0015, Val Loss: 0.0008\n",
            "Epoch 33/200, Train Loss: 0.0012, Val Loss: 0.0001\n",
            "Epoch 34/200, Train Loss: 0.0011, Val Loss: 0.0002\n",
            "Epoch 35/200, Train Loss: 0.0015, Val Loss: 0.0022\n",
            "Epoch 36/200, Train Loss: 0.0013, Val Loss: 0.0001\n",
            "Early stopping at epoch 36!\n"
          ]
        }
      ],
      "source": [
        "combined_dataset = ConcatDataset([train_dataset, val_dataset])\n",
        "data_loaders = DataLoader(combined_dataset, batch_size=32, shuffle=True)\n",
        "\n",
        "model = BestFitModel(num_classes=18).to(device)\n",
        "optimizer = optim.Adam(model.parameters(), lr=0.0001)\n",
        "criterion = nn.CrossEntropyLoss()\n",
        "print(f\"Training with Learning Rate: {0.0001}\")\n",
        "myModel = train(data_loaders, model, optimizer, criterion, epochs=200, class_to_idx=class_to_idx, early_stopping_patience=3, lr=0.0001)"
      ]
    },
    {
      "cell_type": "markdown",
      "metadata": {
        "id": "fVU-2KVT5iZ5"
      },
      "source": [
        "# **BestFit model**"
      ]
    },
    {
      "cell_type": "code",
      "execution_count": 40,
      "metadata": {
        "colab": {
          "base_uri": "https://localhost:8080/"
        },
        "id": "vjeliMDjoLSb",
        "outputId": "3d5bc06f-a4f1-4211-c796-9fadac010f1d"
      },
      "outputs": [
        {
          "name": "stdout",
          "output_type": "stream",
          "text": [
            "Accuracy on test set: 98.6296%\n"
          ]
        }
      ],
      "source": [
        "accuracy = calculate_accuracy(myModel, test_loader, class_to_idx)\n",
        "print(f\"Accuracy on test set: {accuracy*100:.4f}%\")"
      ]
    },
    {
      "cell_type": "markdown",
      "metadata": {
        "id": "IUK3oM6xEN_i"
      },
      "source": [
        "بر روی داده های ارزیابی هم تست را انجام میدهیم\n"
      ]
    },
    {
      "cell_type": "code",
      "execution_count": 41,
      "metadata": {
        "colab": {
          "base_uri": "https://localhost:8080/"
        },
        "id": "jbtdCI-uvWZq",
        "outputId": "e670db80-b281-4f06-9b23-1c213bab9fb6"
      },
      "outputs": [
        {
          "name": "stdout",
          "output_type": "stream",
          "text": [
            "Accuracy on validation set: 100.0000%\n"
          ]
        }
      ],
      "source": [
        "accuracy = calculate_accuracy(myModel, val_loader, class_to_idx)\n",
        "print(f\"Accuracy on validation set: {accuracy*100:.4f}%\")"
      ]
    },
    {
      "cell_type": "markdown",
      "metadata": {
        "id": "uGDAS7_0AJ11"
      },
      "source": [
        " و در آخر هم بر روی داده های آموزش"
      ]
    },
    {
      "cell_type": "code",
      "execution_count": 42,
      "metadata": {
        "colab": {
          "base_uri": "https://localhost:8080/"
        },
        "id": "8Uqt8xauAE_-",
        "outputId": "dbe093a3-4b61-4aa3-f806-efe75f2c27c4"
      },
      "outputs": [
        {
          "name": "stdout",
          "output_type": "stream",
          "text": [
            "Accuracy on validation set: 100.0000%\n"
          ]
        }
      ],
      "source": [
        "accuracy = calculate_accuracy(myModel, train_loader, class_to_idx)\n",
        "print(f\"Accuracy on validation set: {accuracy*100:.4f}%\")"
      ]
    },
    {
      "cell_type": "markdown",
      "metadata": {
        "id": "KkZU5k285nwv"
      },
      "source": [
        "# **OverFit model**"
      ]
    },
    {
      "cell_type": "code",
      "execution_count": 43,
      "metadata": {
        "colab": {
          "base_uri": "https://localhost:8080/"
        },
        "id": "DLPXqynl3aYD",
        "outputId": "b4692bbc-f32e-4676-d57a-af71435a3938"
      },
      "outputs": [
        {
          "name": "stdout",
          "output_type": "stream",
          "text": [
            "Training with Learning Rate: 0.0001\n",
            "Epoch 1/200, Train Loss: 1.7711, Val Loss: 2.6838\n",
            "Epoch 2/200, Train Loss: 0.7826, Val Loss: 1.3650\n",
            "Epoch 3/200, Train Loss: 0.4113, Val Loss: 0.6339\n",
            "Epoch 4/200, Train Loss: 0.2430, Val Loss: 0.3848\n",
            "Epoch 5/200, Train Loss: 0.1518, Val Loss: 0.2529\n",
            "Epoch 6/200, Train Loss: 0.0989, Val Loss: 0.1495\n",
            "Epoch 7/200, Train Loss: 0.0665, Val Loss: 0.1242\n",
            "Epoch 8/200, Train Loss: 0.0490, Val Loss: 0.0507\n",
            "Epoch 9/200, Train Loss: 0.0373, Val Loss: 0.0461\n",
            "Epoch 10/200, Train Loss: 0.0297, Val Loss: 0.0738\n",
            "Epoch 11/200, Train Loss: 0.0238, Val Loss: 0.0305\n",
            "Epoch 12/200, Train Loss: 0.0212, Val Loss: 0.0633\n",
            "Epoch 13/200, Train Loss: 0.0164, Val Loss: 0.0201\n",
            "Epoch 14/200, Train Loss: 0.0176, Val Loss: 0.0325\n",
            "Epoch 15/200, Train Loss: 0.0153, Val Loss: 0.0129\n",
            "Epoch 16/200, Train Loss: 0.0108, Val Loss: 0.0101\n",
            "Epoch 17/200, Train Loss: 0.0110, Val Loss: 0.0319\n",
            "Epoch 18/200, Train Loss: 0.0106, Val Loss: 0.0130\n",
            "Epoch 19/200, Train Loss: 0.0095, Val Loss: 0.0118\n",
            "Early stopping at epoch 19!\n"
          ]
        }
      ],
      "source": [
        "Cp_model = ComplexCNN(num_classes=18).to(device)\n",
        "optimizer = optim.Adam(Cp_model.parameters(), lr=0.0001)\n",
        "print(f\"Training with Learning Rate: {0.0001}\")\n",
        "C_Model = train(data_loaders, Cp_model, optimizer, criterion, epochs=200, class_to_idx=class_to_idx, early_stopping_patience=3, lr=0.0001)"
      ]
    },
    {
      "cell_type": "code",
      "execution_count": 44,
      "metadata": {
        "colab": {
          "base_uri": "https://localhost:8080/"
        },
        "id": "SeKqK7b56YCp",
        "outputId": "84e6c936-5bca-4214-c725-380ab678717c"
      },
      "outputs": [
        {
          "name": "stdout",
          "output_type": "stream",
          "text": [
            "Accuracy on test set: 96.1481%\n"
          ]
        }
      ],
      "source": [
        "accuracy = calculate_accuracy(C_Model, test_loader, class_to_idx)\n",
        "print(f\"Accuracy on test set: {accuracy*100:.4f}%\")"
      ]
    },
    {
      "cell_type": "markdown",
      "metadata": {
        "id": "_P9NxlngCDms"
      },
      "source": [
        "بر روی داده های ارزیابی هم تست را انجام میدهیم\n"
      ]
    },
    {
      "cell_type": "code",
      "execution_count": 45,
      "metadata": {
        "colab": {
          "base_uri": "https://localhost:8080/"
        },
        "id": "Du--SJxcCBA_",
        "outputId": "7dbc15a5-ad06-499a-c41c-4860217e9000"
      },
      "outputs": [
        {
          "name": "stdout",
          "output_type": "stream",
          "text": [
            "Accuracy on validation set: 99.9259%\n"
          ]
        }
      ],
      "source": [
        "accuracy = calculate_accuracy(C_Model, val_loader, class_to_idx)\n",
        "print(f\"Accuracy on validation set: {accuracy*100:.4f}%\")"
      ]
    },
    {
      "cell_type": "markdown",
      "metadata": {
        "id": "HCXl-drPCaPj"
      },
      "source": [
        " و در آخر هم بر روی داده های آموزش"
      ]
    },
    {
      "cell_type": "code",
      "execution_count": 46,
      "metadata": {
        "colab": {
          "base_uri": "https://localhost:8080/"
        },
        "id": "sgT65x7zCfGK",
        "outputId": "b1c8ffa6-fb74-4569-d715-e2ac8afabb76"
      },
      "outputs": [
        {
          "name": "stdout",
          "output_type": "stream",
          "text": [
            "Accuracy on validation set: 99.9259%\n"
          ]
        }
      ],
      "source": [
        "accuracy = calculate_accuracy(C_Model, train_loader, class_to_idx)\n",
        "print(f\"Accuracy on validation set: {accuracy*100:.4f}%\")"
      ]
    },
    {
      "cell_type": "markdown",
      "metadata": {
        "id": "Qhakz4AoApZ1"
      },
      "source": [
        "**که شاهد کاهش دقت بر روی داده های تست هستیم، که این نشان دهنده اورفیت بودن مدل است(دلایل هم بالای خود کلاس توضیح داده شده است)**"
      ]
    },
    {
      "cell_type": "markdown",
      "metadata": {
        "id": "YocLiU5pBAw_"
      },
      "source": [
        "# **UnderFit model**"
      ]
    },
    {
      "cell_type": "code",
      "execution_count": 47,
      "metadata": {
        "colab": {
          "base_uri": "https://localhost:8080/"
        },
        "id": "WHsg87zDBFf0",
        "outputId": "546de23b-60a1-40d6-8f4a-325f2759ff0d"
      },
      "outputs": [
        {
          "name": "stdout",
          "output_type": "stream",
          "text": [
            "Training with Learning Rate: 0.0001\n",
            "Epoch 1/200, Train Loss: 1.3805, Val Loss: 2.0192\n",
            "Epoch 2/200, Train Loss: 0.7466, Val Loss: 1.1675\n",
            "Epoch 3/200, Train Loss: 0.5972, Val Loss: 0.9104\n",
            "Epoch 4/200, Train Loss: 0.5234, Val Loss: 0.7915\n",
            "Epoch 5/200, Train Loss: 0.4783, Val Loss: 0.7368\n",
            "Epoch 6/200, Train Loss: 0.4471, Val Loss: 0.6822\n",
            "Epoch 7/200, Train Loss: 0.4239, Val Loss: 0.6628\n",
            "Epoch 8/200, Train Loss: 0.4060, Val Loss: 0.6283\n",
            "Epoch 9/200, Train Loss: 0.3912, Val Loss: 0.6230\n",
            "Epoch 10/200, Train Loss: 0.3788, Val Loss: 0.5751\n",
            "Epoch 11/200, Train Loss: 0.3685, Val Loss: 0.5672\n",
            "Epoch 12/200, Train Loss: 0.3596, Val Loss: 0.5519\n",
            "Epoch 13/200, Train Loss: 0.3512, Val Loss: 0.5435\n",
            "Epoch 14/200, Train Loss: 0.3443, Val Loss: 0.5336\n",
            "Epoch 15/200, Train Loss: 0.3384, Val Loss: 0.5264\n",
            "Epoch 16/200, Train Loss: 0.3322, Val Loss: 0.5087\n",
            "Epoch 17/200, Train Loss: 0.3266, Val Loss: 0.5000\n",
            "Epoch 18/200, Train Loss: 0.3220, Val Loss: 0.5005\n",
            "Epoch 19/200, Train Loss: 0.3174, Val Loss: 0.5119\n",
            "Epoch 20/200, Train Loss: 0.3134, Val Loss: 0.4720\n",
            "Epoch 21/200, Train Loss: 0.3090, Val Loss: 0.4746\n",
            "Epoch 22/200, Train Loss: 0.3055, Val Loss: 0.4902\n",
            "Epoch 23/200, Train Loss: 0.3017, Val Loss: 0.4984\n",
            "Early stopping at epoch 23!\n"
          ]
        }
      ],
      "source": [
        "Un_model = SimpleNN().to(device)\n",
        "optimizer = optim.Adam(Un_model.parameters(), lr=0.0001)\n",
        "print(f\"Training with Learning Rate: {0.0001}\")\n",
        "UN_Model = train(data_loaders, Un_model, optimizer, criterion, epochs=200, class_to_idx=class_to_idx, early_stopping_patience=3, lr=0.0001)"
      ]
    },
    {
      "cell_type": "code",
      "execution_count": 48,
      "metadata": {
        "colab": {
          "base_uri": "https://localhost:8080/"
        },
        "id": "lcJ3x4oEBsmH",
        "outputId": "7f1ac119-102f-489e-8f8f-46b697a04914"
      },
      "outputs": [
        {
          "name": "stdout",
          "output_type": "stream",
          "text": [
            "Accuracy on test set: 90.1852%\n"
          ]
        }
      ],
      "source": [
        "accuracy = calculate_accuracy(Un_model, test_loader, class_to_idx)\n",
        "print(f\"Accuracy on test set: {accuracy*100:.4f}%\")"
      ]
    },
    {
      "cell_type": "markdown",
      "metadata": {
        "id": "iRjrrsSzETqW"
      },
      "source": [
        "بر روی داده های ارزیابی هم تست را انجام میدهیم\n"
      ]
    },
    {
      "cell_type": "code",
      "execution_count": 49,
      "metadata": {
        "colab": {
          "base_uri": "https://localhost:8080/"
        },
        "id": "Mc4__fLWCq4p",
        "outputId": "e0afb354-7eee-4cbd-9044-7d3e3fb17d87"
      },
      "outputs": [
        {
          "name": "stdout",
          "output_type": "stream",
          "text": [
            "Accuracy on test set: 92.4259%\n"
          ]
        }
      ],
      "source": [
        "accuracy = calculate_accuracy(Un_model, val_loader, class_to_idx)\n",
        "print(f\"Accuracy on test set: {accuracy*100:.4f}%\")"
      ]
    },
    {
      "cell_type": "markdown",
      "metadata": {
        "id": "PHGbiPt3EYYm"
      },
      "source": [
        " و در آخر هم بر روی داده های آموزش"
      ]
    },
    {
      "cell_type": "code",
      "execution_count": 50,
      "metadata": {
        "colab": {
          "base_uri": "https://localhost:8080/"
        },
        "id": "9WOKSwGOCrYz",
        "outputId": "3d1f5333-b74e-4fad-f577-a91736712513"
      },
      "outputs": [
        {
          "name": "stdout",
          "output_type": "stream",
          "text": [
            "Accuracy on test set: 91.8095%\n"
          ]
        }
      ],
      "source": [
        "accuracy = calculate_accuracy(Un_model, train_loader, class_to_idx)\n",
        "print(f\"Accuracy on test set: {accuracy*100:.4f}%\")"
      ]
    },
    {
      "cell_type": "markdown",
      "metadata": {
        "id": "YECphZ6kEwh2"
      },
      "source": [
        "**با استفاده از نتایج بدست آمده( و حتی لاس ها) به راحتی میتوان فهمید که مدل آندرفیت است، دلایل هم در بالای خود کلاس مربوطه ذکر شده**"
      ]
    }
  ],
  "metadata": {
    "accelerator": "GPU",
    "colab": {
      "gpuType": "T4",
      "provenance": []
    },
    "kernelspec": {
      "display_name": "Python 3",
      "name": "python3"
    },
    "language_info": {
      "name": "python"
    },
    "widgets": {
      "application/vnd.jupyter.widget-state+json": {
        "09e78325cb2441ffb5993b47a7a65c19": {
          "model_module": "@jupyter-widgets/controls",
          "model_module_version": "1.5.0",
          "model_name": "LabelModel",
          "state": {
            "_dom_classes": [],
            "_model_module": "@jupyter-widgets/controls",
            "_model_module_version": "1.5.0",
            "_model_name": "LabelModel",
            "_view_count": null,
            "_view_module": "@jupyter-widgets/controls",
            "_view_module_version": "1.5.0",
            "_view_name": "LabelView",
            "description": "",
            "description_tooltip": null,
            "layout": "IPY_MODEL_a6262f57060f4c8c87f62297230b5a32",
            "placeholder": "​",
            "style": "IPY_MODEL_25f23cd6dc6640009daa86537f2a7199",
            "value": "0.011 MB of 0.011 MB uploaded\r"
          }
        },
        "0f93aceb8b6544439d4298836315de37": {
          "model_module": "@jupyter-widgets/controls",
          "model_module_version": "1.5.0",
          "model_name": "LabelModel",
          "state": {
            "_dom_classes": [],
            "_model_module": "@jupyter-widgets/controls",
            "_model_module_version": "1.5.0",
            "_model_name": "LabelModel",
            "_view_count": null,
            "_view_module": "@jupyter-widgets/controls",
            "_view_module_version": "1.5.0",
            "_view_name": "LabelView",
            "description": "",
            "description_tooltip": null,
            "layout": "IPY_MODEL_4852d3ff892246b79fe0e89767cc34fe",
            "placeholder": "​",
            "style": "IPY_MODEL_c3becafc2236445a918db20c439fe834",
            "value": "0.012 MB of 0.012 MB uploaded\r"
          }
        },
        "1fe35f66f450424db533a409465378b7": {
          "model_module": "@jupyter-widgets/base",
          "model_module_version": "1.2.0",
          "model_name": "LayoutModel",
          "state": {
            "_model_module": "@jupyter-widgets/base",
            "_model_module_version": "1.2.0",
            "_model_name": "LayoutModel",
            "_view_count": null,
            "_view_module": "@jupyter-widgets/base",
            "_view_module_version": "1.2.0",
            "_view_name": "LayoutView",
            "align_content": null,
            "align_items": null,
            "align_self": null,
            "border": null,
            "bottom": null,
            "display": null,
            "flex": null,
            "flex_flow": null,
            "grid_area": null,
            "grid_auto_columns": null,
            "grid_auto_flow": null,
            "grid_auto_rows": null,
            "grid_column": null,
            "grid_gap": null,
            "grid_row": null,
            "grid_template_areas": null,
            "grid_template_columns": null,
            "grid_template_rows": null,
            "height": null,
            "justify_content": null,
            "justify_items": null,
            "left": null,
            "margin": null,
            "max_height": null,
            "max_width": null,
            "min_height": null,
            "min_width": null,
            "object_fit": null,
            "object_position": null,
            "order": null,
            "overflow": null,
            "overflow_x": null,
            "overflow_y": null,
            "padding": null,
            "right": null,
            "top": null,
            "visibility": null,
            "width": null
          }
        },
        "25f23cd6dc6640009daa86537f2a7199": {
          "model_module": "@jupyter-widgets/controls",
          "model_module_version": "1.5.0",
          "model_name": "DescriptionStyleModel",
          "state": {
            "_model_module": "@jupyter-widgets/controls",
            "_model_module_version": "1.5.0",
            "_model_name": "DescriptionStyleModel",
            "_view_count": null,
            "_view_module": "@jupyter-widgets/base",
            "_view_module_version": "1.2.0",
            "_view_name": "StyleView",
            "description_width": ""
          }
        },
        "2622d6f6b6d046dc8132adbf4647324f": {
          "model_module": "@jupyter-widgets/base",
          "model_module_version": "1.2.0",
          "model_name": "LayoutModel",
          "state": {
            "_model_module": "@jupyter-widgets/base",
            "_model_module_version": "1.2.0",
            "_model_name": "LayoutModel",
            "_view_count": null,
            "_view_module": "@jupyter-widgets/base",
            "_view_module_version": "1.2.0",
            "_view_name": "LayoutView",
            "align_content": null,
            "align_items": null,
            "align_self": null,
            "border": null,
            "bottom": null,
            "display": null,
            "flex": null,
            "flex_flow": null,
            "grid_area": null,
            "grid_auto_columns": null,
            "grid_auto_flow": null,
            "grid_auto_rows": null,
            "grid_column": null,
            "grid_gap": null,
            "grid_row": null,
            "grid_template_areas": null,
            "grid_template_columns": null,
            "grid_template_rows": null,
            "height": null,
            "justify_content": null,
            "justify_items": null,
            "left": null,
            "margin": null,
            "max_height": null,
            "max_width": null,
            "min_height": null,
            "min_width": null,
            "object_fit": null,
            "object_position": null,
            "order": null,
            "overflow": null,
            "overflow_x": null,
            "overflow_y": null,
            "padding": null,
            "right": null,
            "top": null,
            "visibility": null,
            "width": null
          }
        },
        "299c02d5acdd4bb2970a1a10a5b615ef": {
          "model_module": "@jupyter-widgets/controls",
          "model_module_version": "1.5.0",
          "model_name": "VBoxModel",
          "state": {
            "_dom_classes": [],
            "_model_module": "@jupyter-widgets/controls",
            "_model_module_version": "1.5.0",
            "_model_name": "VBoxModel",
            "_view_count": null,
            "_view_module": "@jupyter-widgets/controls",
            "_view_module_version": "1.5.0",
            "_view_name": "VBoxView",
            "box_style": "",
            "children": [
              "IPY_MODEL_0f93aceb8b6544439d4298836315de37",
              "IPY_MODEL_6e4899f330c3487f84ce09acc465285f"
            ],
            "layout": "IPY_MODEL_1fe35f66f450424db533a409465378b7"
          }
        },
        "2bbe65276c3c40f680ea2f0a93690371": {
          "model_module": "@jupyter-widgets/controls",
          "model_module_version": "1.5.0",
          "model_name": "FloatProgressModel",
          "state": {
            "_dom_classes": [],
            "_model_module": "@jupyter-widgets/controls",
            "_model_module_version": "1.5.0",
            "_model_name": "FloatProgressModel",
            "_view_count": null,
            "_view_module": "@jupyter-widgets/controls",
            "_view_module_version": "1.5.0",
            "_view_name": "ProgressView",
            "bar_style": "",
            "description": "",
            "description_tooltip": null,
            "layout": "IPY_MODEL_2622d6f6b6d046dc8132adbf4647324f",
            "max": 1,
            "min": 0,
            "orientation": "horizontal",
            "style": "IPY_MODEL_b6334a7dda5e446a95eeae7c5e8ba7c1",
            "value": 1
          }
        },
        "2fef4a336ca1453eb99ea4808dad894a": {
          "model_module": "@jupyter-widgets/controls",
          "model_module_version": "1.5.0",
          "model_name": "LabelModel",
          "state": {
            "_dom_classes": [],
            "_model_module": "@jupyter-widgets/controls",
            "_model_module_version": "1.5.0",
            "_model_name": "LabelModel",
            "_view_count": null,
            "_view_module": "@jupyter-widgets/controls",
            "_view_module_version": "1.5.0",
            "_view_name": "LabelView",
            "description": "",
            "description_tooltip": null,
            "layout": "IPY_MODEL_d1eeebfe5ef541f29175433cfcab53f5",
            "placeholder": "​",
            "style": "IPY_MODEL_f0c7f1177d8b4307b5c5410507524460",
            "value": "0.012 MB of 0.012 MB uploaded\r"
          }
        },
        "32bce373f68f4d1599f25006ef36b202": {
          "model_module": "@jupyter-widgets/controls",
          "model_module_version": "1.5.0",
          "model_name": "ProgressStyleModel",
          "state": {
            "_model_module": "@jupyter-widgets/controls",
            "_model_module_version": "1.5.0",
            "_model_name": "ProgressStyleModel",
            "_view_count": null,
            "_view_module": "@jupyter-widgets/base",
            "_view_module_version": "1.2.0",
            "_view_name": "StyleView",
            "bar_color": null,
            "description_width": ""
          }
        },
        "41c9de210f654463833c46cbd5ecff83": {
          "model_module": "@jupyter-widgets/controls",
          "model_module_version": "1.5.0",
          "model_name": "DescriptionStyleModel",
          "state": {
            "_model_module": "@jupyter-widgets/controls",
            "_model_module_version": "1.5.0",
            "_model_name": "DescriptionStyleModel",
            "_view_count": null,
            "_view_module": "@jupyter-widgets/base",
            "_view_module_version": "1.2.0",
            "_view_name": "StyleView",
            "description_width": ""
          }
        },
        "4852d3ff892246b79fe0e89767cc34fe": {
          "model_module": "@jupyter-widgets/base",
          "model_module_version": "1.2.0",
          "model_name": "LayoutModel",
          "state": {
            "_model_module": "@jupyter-widgets/base",
            "_model_module_version": "1.2.0",
            "_model_name": "LayoutModel",
            "_view_count": null,
            "_view_module": "@jupyter-widgets/base",
            "_view_module_version": "1.2.0",
            "_view_name": "LayoutView",
            "align_content": null,
            "align_items": null,
            "align_self": null,
            "border": null,
            "bottom": null,
            "display": null,
            "flex": null,
            "flex_flow": null,
            "grid_area": null,
            "grid_auto_columns": null,
            "grid_auto_flow": null,
            "grid_auto_rows": null,
            "grid_column": null,
            "grid_gap": null,
            "grid_row": null,
            "grid_template_areas": null,
            "grid_template_columns": null,
            "grid_template_rows": null,
            "height": null,
            "justify_content": null,
            "justify_items": null,
            "left": null,
            "margin": null,
            "max_height": null,
            "max_width": null,
            "min_height": null,
            "min_width": null,
            "object_fit": null,
            "object_position": null,
            "order": null,
            "overflow": null,
            "overflow_x": null,
            "overflow_y": null,
            "padding": null,
            "right": null,
            "top": null,
            "visibility": null,
            "width": null
          }
        },
        "657a960f0bd0407e95dc3425b167e4e4": {
          "model_module": "@jupyter-widgets/base",
          "model_module_version": "1.2.0",
          "model_name": "LayoutModel",
          "state": {
            "_model_module": "@jupyter-widgets/base",
            "_model_module_version": "1.2.0",
            "_model_name": "LayoutModel",
            "_view_count": null,
            "_view_module": "@jupyter-widgets/base",
            "_view_module_version": "1.2.0",
            "_view_name": "LayoutView",
            "align_content": null,
            "align_items": null,
            "align_self": null,
            "border": null,
            "bottom": null,
            "display": null,
            "flex": null,
            "flex_flow": null,
            "grid_area": null,
            "grid_auto_columns": null,
            "grid_auto_flow": null,
            "grid_auto_rows": null,
            "grid_column": null,
            "grid_gap": null,
            "grid_row": null,
            "grid_template_areas": null,
            "grid_template_columns": null,
            "grid_template_rows": null,
            "height": null,
            "justify_content": null,
            "justify_items": null,
            "left": null,
            "margin": null,
            "max_height": null,
            "max_width": null,
            "min_height": null,
            "min_width": null,
            "object_fit": null,
            "object_position": null,
            "order": null,
            "overflow": null,
            "overflow_x": null,
            "overflow_y": null,
            "padding": null,
            "right": null,
            "top": null,
            "visibility": null,
            "width": null
          }
        },
        "67948def2d284ddb9f3fb3076133b067": {
          "model_module": "@jupyter-widgets/base",
          "model_module_version": "1.2.0",
          "model_name": "LayoutModel",
          "state": {
            "_model_module": "@jupyter-widgets/base",
            "_model_module_version": "1.2.0",
            "_model_name": "LayoutModel",
            "_view_count": null,
            "_view_module": "@jupyter-widgets/base",
            "_view_module_version": "1.2.0",
            "_view_name": "LayoutView",
            "align_content": null,
            "align_items": null,
            "align_self": null,
            "border": null,
            "bottom": null,
            "display": null,
            "flex": null,
            "flex_flow": null,
            "grid_area": null,
            "grid_auto_columns": null,
            "grid_auto_flow": null,
            "grid_auto_rows": null,
            "grid_column": null,
            "grid_gap": null,
            "grid_row": null,
            "grid_template_areas": null,
            "grid_template_columns": null,
            "grid_template_rows": null,
            "height": null,
            "justify_content": null,
            "justify_items": null,
            "left": null,
            "margin": null,
            "max_height": null,
            "max_width": null,
            "min_height": null,
            "min_width": null,
            "object_fit": null,
            "object_position": null,
            "order": null,
            "overflow": null,
            "overflow_x": null,
            "overflow_y": null,
            "padding": null,
            "right": null,
            "top": null,
            "visibility": null,
            "width": null
          }
        },
        "6e4899f330c3487f84ce09acc465285f": {
          "model_module": "@jupyter-widgets/controls",
          "model_module_version": "1.5.0",
          "model_name": "FloatProgressModel",
          "state": {
            "_dom_classes": [],
            "_model_module": "@jupyter-widgets/controls",
            "_model_module_version": "1.5.0",
            "_model_name": "FloatProgressModel",
            "_view_count": null,
            "_view_module": "@jupyter-widgets/controls",
            "_view_module_version": "1.5.0",
            "_view_name": "ProgressView",
            "bar_style": "",
            "description": "",
            "description_tooltip": null,
            "layout": "IPY_MODEL_657a960f0bd0407e95dc3425b167e4e4",
            "max": 1,
            "min": 0,
            "orientation": "horizontal",
            "style": "IPY_MODEL_e789a88897354d9aba111d13eca581a0",
            "value": 1
          }
        },
        "85dd998b09404241b71ae1c27259d238": {
          "model_module": "@jupyter-widgets/controls",
          "model_module_version": "1.5.0",
          "model_name": "VBoxModel",
          "state": {
            "_dom_classes": [],
            "_model_module": "@jupyter-widgets/controls",
            "_model_module_version": "1.5.0",
            "_model_name": "VBoxModel",
            "_view_count": null,
            "_view_module": "@jupyter-widgets/controls",
            "_view_module_version": "1.5.0",
            "_view_name": "VBoxView",
            "box_style": "",
            "children": [
              "IPY_MODEL_09e78325cb2441ffb5993b47a7a65c19",
              "IPY_MODEL_9e661ab61b1342479c61ffa5fbe0aa3d"
            ],
            "layout": "IPY_MODEL_d10e753e0bf94a80958a7922cc152017"
          }
        },
        "8b40889683ac495291b84af0bff3f1be": {
          "model_module": "@jupyter-widgets/base",
          "model_module_version": "1.2.0",
          "model_name": "LayoutModel",
          "state": {
            "_model_module": "@jupyter-widgets/base",
            "_model_module_version": "1.2.0",
            "_model_name": "LayoutModel",
            "_view_count": null,
            "_view_module": "@jupyter-widgets/base",
            "_view_module_version": "1.2.0",
            "_view_name": "LayoutView",
            "align_content": null,
            "align_items": null,
            "align_self": null,
            "border": null,
            "bottom": null,
            "display": null,
            "flex": null,
            "flex_flow": null,
            "grid_area": null,
            "grid_auto_columns": null,
            "grid_auto_flow": null,
            "grid_auto_rows": null,
            "grid_column": null,
            "grid_gap": null,
            "grid_row": null,
            "grid_template_areas": null,
            "grid_template_columns": null,
            "grid_template_rows": null,
            "height": null,
            "justify_content": null,
            "justify_items": null,
            "left": null,
            "margin": null,
            "max_height": null,
            "max_width": null,
            "min_height": null,
            "min_width": null,
            "object_fit": null,
            "object_position": null,
            "order": null,
            "overflow": null,
            "overflow_x": null,
            "overflow_y": null,
            "padding": null,
            "right": null,
            "top": null,
            "visibility": null,
            "width": null
          }
        },
        "8ca53682891e404eab0517a676561d3b": {
          "model_module": "@jupyter-widgets/base",
          "model_module_version": "1.2.0",
          "model_name": "LayoutModel",
          "state": {
            "_model_module": "@jupyter-widgets/base",
            "_model_module_version": "1.2.0",
            "_model_name": "LayoutModel",
            "_view_count": null,
            "_view_module": "@jupyter-widgets/base",
            "_view_module_version": "1.2.0",
            "_view_name": "LayoutView",
            "align_content": null,
            "align_items": null,
            "align_self": null,
            "border": null,
            "bottom": null,
            "display": null,
            "flex": null,
            "flex_flow": null,
            "grid_area": null,
            "grid_auto_columns": null,
            "grid_auto_flow": null,
            "grid_auto_rows": null,
            "grid_column": null,
            "grid_gap": null,
            "grid_row": null,
            "grid_template_areas": null,
            "grid_template_columns": null,
            "grid_template_rows": null,
            "height": null,
            "justify_content": null,
            "justify_items": null,
            "left": null,
            "margin": null,
            "max_height": null,
            "max_width": null,
            "min_height": null,
            "min_width": null,
            "object_fit": null,
            "object_position": null,
            "order": null,
            "overflow": null,
            "overflow_x": null,
            "overflow_y": null,
            "padding": null,
            "right": null,
            "top": null,
            "visibility": null,
            "width": null
          }
        },
        "909e080675ca4c099862857a1dea7f4d": {
          "model_module": "@jupyter-widgets/controls",
          "model_module_version": "1.5.0",
          "model_name": "ProgressStyleModel",
          "state": {
            "_model_module": "@jupyter-widgets/controls",
            "_model_module_version": "1.5.0",
            "_model_name": "ProgressStyleModel",
            "_view_count": null,
            "_view_module": "@jupyter-widgets/base",
            "_view_module_version": "1.2.0",
            "_view_name": "StyleView",
            "bar_color": null,
            "description_width": ""
          }
        },
        "9e661ab61b1342479c61ffa5fbe0aa3d": {
          "model_module": "@jupyter-widgets/controls",
          "model_module_version": "1.5.0",
          "model_name": "FloatProgressModel",
          "state": {
            "_dom_classes": [],
            "_model_module": "@jupyter-widgets/controls",
            "_model_module_version": "1.5.0",
            "_model_name": "FloatProgressModel",
            "_view_count": null,
            "_view_module": "@jupyter-widgets/controls",
            "_view_module_version": "1.5.0",
            "_view_name": "ProgressView",
            "bar_style": "",
            "description": "",
            "description_tooltip": null,
            "layout": "IPY_MODEL_fd08bcefe9f741a0bf67cd1dadf906ef",
            "max": 1,
            "min": 0,
            "orientation": "horizontal",
            "style": "IPY_MODEL_909e080675ca4c099862857a1dea7f4d",
            "value": 1
          }
        },
        "a6262f57060f4c8c87f62297230b5a32": {
          "model_module": "@jupyter-widgets/base",
          "model_module_version": "1.2.0",
          "model_name": "LayoutModel",
          "state": {
            "_model_module": "@jupyter-widgets/base",
            "_model_module_version": "1.2.0",
            "_model_name": "LayoutModel",
            "_view_count": null,
            "_view_module": "@jupyter-widgets/base",
            "_view_module_version": "1.2.0",
            "_view_name": "LayoutView",
            "align_content": null,
            "align_items": null,
            "align_self": null,
            "border": null,
            "bottom": null,
            "display": null,
            "flex": null,
            "flex_flow": null,
            "grid_area": null,
            "grid_auto_columns": null,
            "grid_auto_flow": null,
            "grid_auto_rows": null,
            "grid_column": null,
            "grid_gap": null,
            "grid_row": null,
            "grid_template_areas": null,
            "grid_template_columns": null,
            "grid_template_rows": null,
            "height": null,
            "justify_content": null,
            "justify_items": null,
            "left": null,
            "margin": null,
            "max_height": null,
            "max_width": null,
            "min_height": null,
            "min_width": null,
            "object_fit": null,
            "object_position": null,
            "order": null,
            "overflow": null,
            "overflow_x": null,
            "overflow_y": null,
            "padding": null,
            "right": null,
            "top": null,
            "visibility": null,
            "width": null
          }
        },
        "b6334a7dda5e446a95eeae7c5e8ba7c1": {
          "model_module": "@jupyter-widgets/controls",
          "model_module_version": "1.5.0",
          "model_name": "ProgressStyleModel",
          "state": {
            "_model_module": "@jupyter-widgets/controls",
            "_model_module_version": "1.5.0",
            "_model_name": "ProgressStyleModel",
            "_view_count": null,
            "_view_module": "@jupyter-widgets/base",
            "_view_module_version": "1.2.0",
            "_view_name": "StyleView",
            "bar_color": null,
            "description_width": ""
          }
        },
        "bfb1db1af153436ab6878989df57547e": {
          "model_module": "@jupyter-widgets/controls",
          "model_module_version": "1.5.0",
          "model_name": "LabelModel",
          "state": {
            "_dom_classes": [],
            "_model_module": "@jupyter-widgets/controls",
            "_model_module_version": "1.5.0",
            "_model_name": "LabelModel",
            "_view_count": null,
            "_view_module": "@jupyter-widgets/controls",
            "_view_module_version": "1.5.0",
            "_view_name": "LabelView",
            "description": "",
            "description_tooltip": null,
            "layout": "IPY_MODEL_8ca53682891e404eab0517a676561d3b",
            "placeholder": "​",
            "style": "IPY_MODEL_41c9de210f654463833c46cbd5ecff83",
            "value": "0.011 MB of 0.011 MB uploaded\r"
          }
        },
        "c3becafc2236445a918db20c439fe834": {
          "model_module": "@jupyter-widgets/controls",
          "model_module_version": "1.5.0",
          "model_name": "DescriptionStyleModel",
          "state": {
            "_model_module": "@jupyter-widgets/controls",
            "_model_module_version": "1.5.0",
            "_model_name": "DescriptionStyleModel",
            "_view_count": null,
            "_view_module": "@jupyter-widgets/base",
            "_view_module_version": "1.2.0",
            "_view_name": "StyleView",
            "description_width": ""
          }
        },
        "cd630bfaaef94f93bd057913abcdb6b0": {
          "model_module": "@jupyter-widgets/controls",
          "model_module_version": "1.5.0",
          "model_name": "VBoxModel",
          "state": {
            "_dom_classes": [],
            "_model_module": "@jupyter-widgets/controls",
            "_model_module_version": "1.5.0",
            "_model_name": "VBoxModel",
            "_view_count": null,
            "_view_module": "@jupyter-widgets/controls",
            "_view_module_version": "1.5.0",
            "_view_name": "VBoxView",
            "box_style": "",
            "children": [
              "IPY_MODEL_2fef4a336ca1453eb99ea4808dad894a",
              "IPY_MODEL_2bbe65276c3c40f680ea2f0a93690371"
            ],
            "layout": "IPY_MODEL_8b40889683ac495291b84af0bff3f1be"
          }
        },
        "cdba53509bca4fd1a70f4e20f64ddf66": {
          "model_module": "@jupyter-widgets/base",
          "model_module_version": "1.2.0",
          "model_name": "LayoutModel",
          "state": {
            "_model_module": "@jupyter-widgets/base",
            "_model_module_version": "1.2.0",
            "_model_name": "LayoutModel",
            "_view_count": null,
            "_view_module": "@jupyter-widgets/base",
            "_view_module_version": "1.2.0",
            "_view_name": "LayoutView",
            "align_content": null,
            "align_items": null,
            "align_self": null,
            "border": null,
            "bottom": null,
            "display": null,
            "flex": null,
            "flex_flow": null,
            "grid_area": null,
            "grid_auto_columns": null,
            "grid_auto_flow": null,
            "grid_auto_rows": null,
            "grid_column": null,
            "grid_gap": null,
            "grid_row": null,
            "grid_template_areas": null,
            "grid_template_columns": null,
            "grid_template_rows": null,
            "height": null,
            "justify_content": null,
            "justify_items": null,
            "left": null,
            "margin": null,
            "max_height": null,
            "max_width": null,
            "min_height": null,
            "min_width": null,
            "object_fit": null,
            "object_position": null,
            "order": null,
            "overflow": null,
            "overflow_x": null,
            "overflow_y": null,
            "padding": null,
            "right": null,
            "top": null,
            "visibility": null,
            "width": null
          }
        },
        "d10e753e0bf94a80958a7922cc152017": {
          "model_module": "@jupyter-widgets/base",
          "model_module_version": "1.2.0",
          "model_name": "LayoutModel",
          "state": {
            "_model_module": "@jupyter-widgets/base",
            "_model_module_version": "1.2.0",
            "_model_name": "LayoutModel",
            "_view_count": null,
            "_view_module": "@jupyter-widgets/base",
            "_view_module_version": "1.2.0",
            "_view_name": "LayoutView",
            "align_content": null,
            "align_items": null,
            "align_self": null,
            "border": null,
            "bottom": null,
            "display": null,
            "flex": null,
            "flex_flow": null,
            "grid_area": null,
            "grid_auto_columns": null,
            "grid_auto_flow": null,
            "grid_auto_rows": null,
            "grid_column": null,
            "grid_gap": null,
            "grid_row": null,
            "grid_template_areas": null,
            "grid_template_columns": null,
            "grid_template_rows": null,
            "height": null,
            "justify_content": null,
            "justify_items": null,
            "left": null,
            "margin": null,
            "max_height": null,
            "max_width": null,
            "min_height": null,
            "min_width": null,
            "object_fit": null,
            "object_position": null,
            "order": null,
            "overflow": null,
            "overflow_x": null,
            "overflow_y": null,
            "padding": null,
            "right": null,
            "top": null,
            "visibility": null,
            "width": null
          }
        },
        "d1eeebfe5ef541f29175433cfcab53f5": {
          "model_module": "@jupyter-widgets/base",
          "model_module_version": "1.2.0",
          "model_name": "LayoutModel",
          "state": {
            "_model_module": "@jupyter-widgets/base",
            "_model_module_version": "1.2.0",
            "_model_name": "LayoutModel",
            "_view_count": null,
            "_view_module": "@jupyter-widgets/base",
            "_view_module_version": "1.2.0",
            "_view_name": "LayoutView",
            "align_content": null,
            "align_items": null,
            "align_self": null,
            "border": null,
            "bottom": null,
            "display": null,
            "flex": null,
            "flex_flow": null,
            "grid_area": null,
            "grid_auto_columns": null,
            "grid_auto_flow": null,
            "grid_auto_rows": null,
            "grid_column": null,
            "grid_gap": null,
            "grid_row": null,
            "grid_template_areas": null,
            "grid_template_columns": null,
            "grid_template_rows": null,
            "height": null,
            "justify_content": null,
            "justify_items": null,
            "left": null,
            "margin": null,
            "max_height": null,
            "max_width": null,
            "min_height": null,
            "min_width": null,
            "object_fit": null,
            "object_position": null,
            "order": null,
            "overflow": null,
            "overflow_x": null,
            "overflow_y": null,
            "padding": null,
            "right": null,
            "top": null,
            "visibility": null,
            "width": null
          }
        },
        "e789a88897354d9aba111d13eca581a0": {
          "model_module": "@jupyter-widgets/controls",
          "model_module_version": "1.5.0",
          "model_name": "ProgressStyleModel",
          "state": {
            "_model_module": "@jupyter-widgets/controls",
            "_model_module_version": "1.5.0",
            "_model_name": "ProgressStyleModel",
            "_view_count": null,
            "_view_module": "@jupyter-widgets/base",
            "_view_module_version": "1.2.0",
            "_view_name": "StyleView",
            "bar_color": null,
            "description_width": ""
          }
        },
        "eedb7973bce64b088c90701f1162546f": {
          "model_module": "@jupyter-widgets/controls",
          "model_module_version": "1.5.0",
          "model_name": "VBoxModel",
          "state": {
            "_dom_classes": [],
            "_model_module": "@jupyter-widgets/controls",
            "_model_module_version": "1.5.0",
            "_model_name": "VBoxModel",
            "_view_count": null,
            "_view_module": "@jupyter-widgets/controls",
            "_view_module_version": "1.5.0",
            "_view_name": "VBoxView",
            "box_style": "",
            "children": [
              "IPY_MODEL_bfb1db1af153436ab6878989df57547e",
              "IPY_MODEL_f7c933e49c364fd098717302b2e83d79"
            ],
            "layout": "IPY_MODEL_67948def2d284ddb9f3fb3076133b067"
          }
        },
        "f0c7f1177d8b4307b5c5410507524460": {
          "model_module": "@jupyter-widgets/controls",
          "model_module_version": "1.5.0",
          "model_name": "DescriptionStyleModel",
          "state": {
            "_model_module": "@jupyter-widgets/controls",
            "_model_module_version": "1.5.0",
            "_model_name": "DescriptionStyleModel",
            "_view_count": null,
            "_view_module": "@jupyter-widgets/base",
            "_view_module_version": "1.2.0",
            "_view_name": "StyleView",
            "description_width": ""
          }
        },
        "f7c933e49c364fd098717302b2e83d79": {
          "model_module": "@jupyter-widgets/controls",
          "model_module_version": "1.5.0",
          "model_name": "FloatProgressModel",
          "state": {
            "_dom_classes": [],
            "_model_module": "@jupyter-widgets/controls",
            "_model_module_version": "1.5.0",
            "_model_name": "FloatProgressModel",
            "_view_count": null,
            "_view_module": "@jupyter-widgets/controls",
            "_view_module_version": "1.5.0",
            "_view_name": "ProgressView",
            "bar_style": "",
            "description": "",
            "description_tooltip": null,
            "layout": "IPY_MODEL_cdba53509bca4fd1a70f4e20f64ddf66",
            "max": 1,
            "min": 0,
            "orientation": "horizontal",
            "style": "IPY_MODEL_32bce373f68f4d1599f25006ef36b202",
            "value": 1
          }
        },
        "fd08bcefe9f741a0bf67cd1dadf906ef": {
          "model_module": "@jupyter-widgets/base",
          "model_module_version": "1.2.0",
          "model_name": "LayoutModel",
          "state": {
            "_model_module": "@jupyter-widgets/base",
            "_model_module_version": "1.2.0",
            "_model_name": "LayoutModel",
            "_view_count": null,
            "_view_module": "@jupyter-widgets/base",
            "_view_module_version": "1.2.0",
            "_view_name": "LayoutView",
            "align_content": null,
            "align_items": null,
            "align_self": null,
            "border": null,
            "bottom": null,
            "display": null,
            "flex": null,
            "flex_flow": null,
            "grid_area": null,
            "grid_auto_columns": null,
            "grid_auto_flow": null,
            "grid_auto_rows": null,
            "grid_column": null,
            "grid_gap": null,
            "grid_row": null,
            "grid_template_areas": null,
            "grid_template_columns": null,
            "grid_template_rows": null,
            "height": null,
            "justify_content": null,
            "justify_items": null,
            "left": null,
            "margin": null,
            "max_height": null,
            "max_width": null,
            "min_height": null,
            "min_width": null,
            "object_fit": null,
            "object_position": null,
            "order": null,
            "overflow": null,
            "overflow_x": null,
            "overflow_y": null,
            "padding": null,
            "right": null,
            "top": null,
            "visibility": null,
            "width": null
          }
        }
      }
    }
  },
  "nbformat": 4,
  "nbformat_minor": 0
}
