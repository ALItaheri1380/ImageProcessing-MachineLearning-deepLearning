{
 "cells": [
  {
   "cell_type": "code",
   "execution_count": 13,
   "metadata": {},
   "outputs": [],
   "source": [
    "import numpy as np\n",
    "import matplotlib.pyplot as plt\n",
    "import random\n",
    "import pandas as pd\n",
    "import seaborn as sns\n",
    "from collections import Counter\n",
    "from sklearn.preprocessing import StandardScaler\n",
    "from sklearn.datasets import load_iris\n",
    "from sklearn.model_selection import train_test_split\n",
    "from sklearn.metrics import accuracy_score, classification_report, confusion_matrix"
   ]
  },
  {
   "cell_type": "code",
   "execution_count": 14,
   "metadata": {},
   "outputs": [],
   "source": [
    "class DecisionTree:\n",
    "    def __init__(self, max_depth=10):\n",
    "        self.max_depth = max_depth\n",
    "        self.tree = None\n",
    "\n",
    "    def fit(self, features, labels):\n",
    "        self.tree = self._build_tree(features, labels)\n",
    "\n",
    "    def predict(self, features):\n",
    "        return [self._predict_sample(sample, self.tree) for sample in features]\n",
    "\n",
    "    def _build_tree(self, features, labels, depth=0):\n",
    "        unique_classes = np.unique(labels)\n",
    "        if len(unique_classes) == 1:\n",
    "            return unique_classes[0]\n",
    "        if depth >= self.max_depth:\n",
    "            return Counter(labels).most_common(1)[0][0]\n",
    "        \n",
    "        best_split = self._get_best_split(features, labels)\n",
    "        left_tree = self._build_tree(best_split['left_features'], best_split['left_labels'], depth + 1)\n",
    "        right_tree = self._build_tree(best_split['right_features'], best_split['right_labels'], depth + 1)\n",
    "        return {'split': best_split['split'], 'left': left_tree, 'right': right_tree}\n",
    "\n",
    "    def _get_best_split(self, features, labels):\n",
    "        best_split = {}\n",
    "        best_gini = float('inf')\n",
    "        _ , n_features = features.shape\n",
    "        for feature_index in range(n_features):\n",
    "            unique_values = np.unique(features[:, feature_index])\n",
    "            for value in unique_values:\n",
    "                left_mask = features[:, feature_index] <= value\n",
    "                right_mask = ~left_mask\n",
    "                left_features, right_features = features[left_mask], features[right_mask]\n",
    "                left_labels, right_labels = labels[left_mask], labels[right_mask]\n",
    "                gini = self._calculate_gini(left_labels, right_labels)\n",
    "                if gini < best_gini:\n",
    "                    best_gini = gini\n",
    "                    best_split = {'split': (feature_index, value),\n",
    "                                  'left_features': left_features, 'left_labels': left_labels,\n",
    "                                  'right_features': right_features, 'right_labels': right_labels}\n",
    "        return best_split\n",
    "\n",
    "    def _calculate_gini(self, left_labels, right_labels):\n",
    "        total_samples = len(left_labels) + len(right_labels)\n",
    "        left_size = len(left_labels) / total_samples\n",
    "        right_size = len(right_labels) / total_samples\n",
    "        left_gini = 1 - sum([(np.sum(left_labels == c) / len(left_labels)) ** 2 for c in np.unique(left_labels)])\n",
    "        right_gini = 1 - sum([(np.sum(right_labels == c) / len(right_labels)) ** 2 for c in np.unique(right_labels)])\n",
    "        return left_size * left_gini + right_size * right_gini\n",
    "\n",
    "    def _predict_sample(self, sample, tree):\n",
    "        if not isinstance(tree, dict):\n",
    "            return tree\n",
    "        feature_index, value = tree['split']\n",
    "        if sample[feature_index] <= value:\n",
    "            return self._predict_sample(sample, tree['left'])\n",
    "        else:\n",
    "            return self._predict_sample(sample, tree['right'])"
   ]
  },
  {
   "cell_type": "code",
   "execution_count": 15,
   "metadata": {},
   "outputs": [],
   "source": [
    "class RandomForest:\n",
    "    def __init__(self, n_trees=100, max_depth=10, random_state=42):\n",
    "        self.n_trees = n_trees\n",
    "        self.max_depth = max_depth\n",
    "        self.random_state = random_state\n",
    "        random.seed(self.random_state)\n",
    "        np.random.seed(self.random_state)\n",
    "        self.trees = []\n",
    "\n",
    "    def fit(self, features, labels):\n",
    "        for _ in range(self.n_trees):\n",
    "            tree = DecisionTree(max_depth=self.max_depth)\n",
    "            features_sample, labels_sample = self._bootstrap_sample(features, labels)\n",
    "            tree.fit(features_sample, labels_sample)\n",
    "            self.trees.append(tree)\n",
    "\n",
    "    def predict(self, features):\n",
    "        tree_predictions = np.zeros((len(features), self.n_trees))\n",
    "        for i, tree in enumerate(self.trees):\n",
    "            tree_predictions[:, i] = tree.predict(features)\n",
    "        return np.array([Counter(x).most_common(1)[0][0] for x in tree_predictions])\n",
    "\n",
    "    def _bootstrap_sample(self, features, labels):\n",
    "        n_samples = len(features)\n",
    "        indices = np.random.choice(range(n_samples), size=n_samples, replace=True)\n",
    "        return features[indices], labels[indices]"
   ]
  },
  {
   "cell_type": "code",
   "execution_count": 16,
   "metadata": {},
   "outputs": [],
   "source": [
    "class KNN:\n",
    "    def __init__(self, k=5, random_state=42):\n",
    "        self.k = k\n",
    "        self.random_state = random_state\n",
    "        random.seed(self.random_state)\n",
    "        np.random.seed(self.random_state)\n",
    "\n",
    "    def fit(self, features, labels):\n",
    "        self.X_train = features\n",
    "        self.y_train = labels\n",
    "\n",
    "    def predict(self, features):\n",
    "        return [self._predict_sample(sample) for sample in features]\n",
    "\n",
    "    def _predict_sample(self, sample):\n",
    "        distances = [np.linalg.norm(sample - train_sample) for train_sample in self.X_train]\n",
    "        k_indices = np.argsort(distances)[:self.k]\n",
    "        k_nearest_labels = self.y_train[k_indices]\n",
    "        most_common = Counter(k_nearest_labels).most_common(1)\n",
    "        return most_common[0][0]"
   ]
  },
  {
   "cell_type": "code",
   "execution_count": 17,
   "metadata": {},
   "outputs": [],
   "source": [
    "class GradientBoosting:\n",
    "    def __init__(self, n_estimators=100, learning_rate=0.1, max_depth=3, random_state=42):\n",
    "        self.n_estimators = n_estimators\n",
    "        self.learning_rate = learning_rate\n",
    "        self.max_depth = max_depth\n",
    "        self.random_state = random_state\n",
    "        random.seed(self.random_state)\n",
    "        np.random.seed(self.random_state)\n",
    "        self.models = []\n",
    "\n",
    "    def fit(self, features, labels):\n",
    "        residuals = labels\n",
    "        for _ in range(self.n_estimators):\n",
    "            model = DecisionTree(max_depth=self.max_depth)\n",
    "            model.fit(features, residuals)\n",
    "            prediction = model.predict(features)\n",
    "            residuals = labels - prediction\n",
    "            self.models.append(model)\n",
    "\n",
    "    def predict(self, features):\n",
    "        predictions = np.zeros(len(features))\n",
    "        for model in self.models:\n",
    "            predictions += self.learning_rate * np.array(model.predict(features))\n",
    "        return np.round(predictions).astype(int)"
   ]
  },
  {
   "cell_type": "code",
   "execution_count": 18,
   "metadata": {},
   "outputs": [],
   "source": [
    "class Ensemble:\n",
    "    def __init__(self, rf_params=None, gb_params=None, knn_params=None):\n",
    "        self.rf = RandomForest(**rf_params)\n",
    "        self.gb = GradientBoosting(**gb_params)\n",
    "        self.knn = KNN(**knn_params)\n",
    "\n",
    "    def fit(self, features, labels):\n",
    "        self.rf.fit(features, labels)\n",
    "        self.gb.fit(features, labels)\n",
    "        self.knn.fit(features, labels)\n",
    "\n",
    "    def predict(self, features):\n",
    "        rf_pred = self.rf.predict(features)\n",
    "        gb_pred = self.gb.predict(features)\n",
    "        knn_pred = self.knn.predict(features)\n",
    "        combined = np.array([rf_pred, gb_pred, knn_pred]).T\n",
    "        return np.array([Counter(x).most_common(1)[0][0] for x in combined])"
   ]
  },
  {
   "cell_type": "code",
   "execution_count": 19,
   "metadata": {},
   "outputs": [],
   "source": [
    "def create_and_preprocess_data():\n",
    "    data = load_iris()\n",
    "    features, labels = data.data, data.target\n",
    "    scaler = StandardScaler()\n",
    "    features_scaled = scaler.fit_transform(features)\n",
    "    return train_test_split(features_scaled, labels, test_size=0.3, random_state=42)\n",
    "\n",
    "def plot_confusion_matrix(true_labels, predicted_labels, title):\n",
    "    cm = confusion_matrix(true_labels, predicted_labels)\n",
    "    plt.figure(figsize=(6, 5))\n",
    "    sns.heatmap(cm, annot=True, fmt=\"d\", cmap=\"Blues\", xticklabels=[0, 1, 2], yticklabels=[0, 1, 2])\n",
    "    plt.xlabel(\"Predicted\")\n",
    "    plt.ylabel(\"Actual\")\n",
    "    plt.title(title)\n",
    "    plt.show()"
   ]
  },
  {
   "cell_type": "code",
   "execution_count": 20,
   "metadata": {},
   "outputs": [],
   "source": [
    "# Data preparation\n",
    "X_train, X_test, y_train, y_test = create_and_preprocess_data()\n",
    "\n",
    "rf_params = {\n",
    "    \"n_trees\": 100,\n",
    "    \"max_depth\": 10,\n",
    "    \"random_state\": 42\n",
    "}\n",
    "gb_params = {\n",
    "    \"n_estimators\": 200,\n",
    "    \"learning_rate\": 0.05,\n",
    "    \"max_depth\": 5,\n",
    "    \"random_state\": 42\n",
    "}\n",
    "knn_params = {\n",
    "    \"k\": 5,\n",
    "    \"random_state\": 42\n",
    "}"
   ]
  },
  {
   "cell_type": "code",
   "execution_count": 21,
   "metadata": {},
   "outputs": [],
   "source": [
    "# Training individual models\n",
    "rf_model = RandomForest(**rf_params)\n",
    "gb_model = GradientBoosting(**gb_params)\n",
    "knn_model = KNN(**knn_params)\n",
    "ensemble_model = Ensemble(rf_params, gb_params, knn_params)\n",
    "\n",
    "rf_model.fit(X_train, y_train)\n",
    "gb_model.fit(X_train, y_train)\n",
    "knn_model.fit(X_train, y_train)\n",
    "ensemble_model.fit(X_train, y_train)"
   ]
  },
  {
   "cell_type": "code",
   "execution_count": 22,
   "metadata": {},
   "outputs": [],
   "source": [
    "# Predictions\n",
    "rf_pred = rf_model.predict(X_test)\n",
    "gb_pred = gb_model.predict(X_test)\n",
    "knn_pred = knn_model.predict(X_test)\n",
    "ensemble_pred = ensemble_model.predict(X_test)"
   ]
  },
  {
   "cell_type": "code",
   "execution_count": 23,
   "metadata": {},
   "outputs": [],
   "source": [
    "# Evaluation\n",
    "rf_acc = accuracy_score(y_test, rf_pred)\n",
    "gb_acc = accuracy_score(y_test, gb_pred)\n",
    "knn_acc = accuracy_score(y_test, knn_pred)\n",
    "ensemble_acc = accuracy_score(y_test, ensemble_pred)"
   ]
  },
  {
   "cell_type": "code",
   "execution_count": 24,
   "metadata": {},
   "outputs": [
    {
     "name": "stdout",
     "output_type": "stream",
     "text": [
      "Model Comparison:\n",
      "                Model  Accuracy\n",
      "0      Random Forest  1.000000\n",
      "1  Gradient Boosting  0.422222\n",
      "2                KNN  1.000000\n",
      "3           Ensemble  1.000000\n"
     ]
    }
   ],
   "source": [
    "results = pd.DataFrame({\n",
    "    \"Model\": [\"Random Forest\", \"Gradient Boosting\", \"KNN\", \"Ensemble\"],\n",
    "    \"Accuracy\": [rf_acc, gb_acc, knn_acc, ensemble_acc]\n",
    "})\n",
    "\n",
    "print(\"Model Comparison:\\n\", results)"
   ]
  },
  {
   "cell_type": "code",
   "execution_count": 25,
   "metadata": {},
   "outputs": [
    {
     "data": {
      "image/png": "[encoded data removed]",
      "text/plain": [
       "<Figure size 432x360 with 2 Axes>"
      ]
     },
     "metadata": {
      "needs_background": "light"
     },
     "output_type": "display_data"
    },
    {
     "data": {
      "image/png": "[encoded data removed]",
      "text/plain": [
       "<Figure size 432x360 with 2 Axes>"
      ]
     },
     "metadata": {
      "needs_background": "light"
     },
     "output_type": "display_data"
    },
    {
     "data": {
      "image/png": "[encoded data removed]",
      "text/plain": [
       "<Figure size 432x360 with 2 Axes>"
      ]
     },
     "metadata": {
      "needs_background": "light"
     },
     "output_type": "display_data"
    },
    {
     "data": {
      "image/png": "[encoded data removed]",
      "text/plain": [
       "<Figure size 432x360 with 2 Axes>"
      ]
     },
     "metadata": {
      "needs_background": "light"
     },
     "output_type": "display_data"
    }
   ],
   "source": [
    "plot_confusion_matrix(y_test, rf_pred, \"Random Forest Confusion Matrix\")\n",
    "plot_confusion_matrix(y_test, gb_pred, \"Gradient Boosting Confusion Matrix\")\n",
    "plot_confusion_matrix(y_test, knn_pred, \"KNN Confusion Matrix\")\n",
    "plot_confusion_matrix(y_test, ensemble_pred, \"Ensemble Confusion Matrix\")"
   ]
  },
  {
   "cell_type": "code",
   "execution_count": 26,
   "metadata": {},
   "outputs": [
    {
     "name": "stdout",
     "output_type": "stream",
     "text": [
      "Random Forest Classification Report:\n",
      "              precision    recall  f1-score   support\n",
      "\n",
      "           0       1.00      1.00      1.00        19\n",
      "           1       1.00      1.00      1.00        13\n",
      "           2       1.00      1.00      1.00        13\n",
      "\n",
      "    accuracy                           1.00        45\n",
      "   macro avg       1.00      1.00      1.00        45\n",
      "weighted avg       1.00      1.00      1.00        45\n",
      "\n",
      "Gradient Boosting Classification Report:\n",
      "              precision    recall  f1-score   support\n",
      "\n",
      "           0       1.00      1.00      1.00        19\n",
      "           1       1.00      0.00      0.00        13\n",
      "           2       1.00      0.00      0.00        13\n",
      "           5       0.00      1.00      0.00         0\n",
      "          10       0.00      1.00      0.00         0\n",
      "\n",
      "    accuracy                           0.42        45\n",
      "   macro avg       0.60      0.60      0.20        45\n",
      "weighted avg       1.00      0.42      0.42        45\n",
      "\n",
      "KNN Classification Report:\n",
      "              precision    recall  f1-score   support\n",
      "\n",
      "           0       1.00      1.00      1.00        19\n",
      "           1       1.00      1.00      1.00        13\n",
      "           2       1.00      1.00      1.00        13\n",
      "\n",
      "    accuracy                           1.00        45\n",
      "   macro avg       1.00      1.00      1.00        45\n",
      "weighted avg       1.00      1.00      1.00        45\n",
      "\n",
      "Ensemble Classification Report:\n",
      "              precision    recall  f1-score   support\n",
      "\n",
      "           0       1.00      1.00      1.00        19\n",
      "           1       1.00      1.00      1.00        13\n",
      "           2       1.00      1.00      1.00        13\n",
      "\n",
      "    accuracy                           1.00        45\n",
      "   macro avg       1.00      1.00      1.00        45\n",
      "weighted avg       1.00      1.00      1.00        45\n",
      "\n"
     ]
    }
   ],
   "source": [
    "# Classification reports\n",
    "print(\"Random Forest Classification Report:\")\n",
    "print(classification_report(y_test, rf_pred))\n",
    "print(\"Gradient Boosting Classification Report:\")\n",
    "print(classification_report(y_test, gb_pred, zero_division=1))\n",
    "print(\"KNN Classification Report:\")\n",
    "print(classification_report(y_test, knn_pred))\n",
    "print(\"Ensemble Classification Report:\")\n",
    "print(classification_report(y_test, ensemble_pred))"
   ]
  }
 ],
 "metadata": {
  "kernelspec": {
   "display_name": "Python 3",
   "language": "python",
   "name": "python3"
  },
  "language_info": {
   "codemirror_mode": {
    "name": "ipython",
    "version": 3
   },
   "file_extension": ".py",
   "mimetype": "text/x-python",
   "name": "python",
   "nbconvert_exporter": "python",
   "pygments_lexer": "ipython3",
   "version": "3.10.0"
  }
 },
 "nbformat": 4,
 "nbformat_minor": 2
}
