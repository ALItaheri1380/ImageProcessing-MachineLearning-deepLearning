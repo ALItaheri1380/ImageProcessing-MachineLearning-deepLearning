{
  "cells": [
    {
      "cell_type": "code",
      "execution_count": 21,
      "metadata": {
        "id": "H5dWqoDHyBTx"
      },
      "outputs": [],
      "source": [
        "import torch\n",
        "import torch.nn as nn\n",
        "import pandas as pd\n",
        "import matplotlib.pyplot as plt\n",
        "import seaborn as sns\n",
        "from sklearn.preprocessing import StandardScaler\n",
        "from sklearn.model_selection import train_test_split"
      ]
    },
    {
      "cell_type": "code",
      "execution_count": 22,
      "metadata": {},
      "outputs": [],
      "source": [
        "scaler = StandardScaler()"
      ]
    },
    {
      "cell_type": "markdown",
      "metadata": {},
      "source": [
        "# Part one"
      ]
    },
    {
      "cell_type": "code",
      "execution_count": 23,
      "metadata": {
        "id": "J8LC8n8QyM4p"
      },
      "outputs": [],
      "source": [
        "df = pd.read_csv('Student_Score.csv')\n",
        "df['Extracurricular Activities'] = df['Extracurricular Activities'].apply(lambda x: 1 if x == 'Yes' else 0)"
      ]
    },
    {
      "cell_type": "code",
      "execution_count": 24,
      "metadata": {
        "colab": {
          "base_uri": "https://localhost:8080/"
        },
        "id": "LhtQG4LI1haC",
        "outputId": "91544a84-c0da-4c7d-9ef7-4aa4a02216bd"
      },
      "outputs": [
        {
          "data": {
            "text/html": [
              "<div>\n",
              "<style scoped>\n",
              "    .dataframe tbody tr th:only-of-type {\n",
              "        vertical-align: middle;\n",
              "    }\n",
              "\n",
              "    .dataframe tbody tr th {\n",
              "        vertical-align: top;\n",
              "    }\n",
              "\n",
              "    .dataframe thead th {\n",
              "        text-align: right;\n",
              "    }\n",
              "</style>\n",
              "<table border=\"1\" class=\"dataframe\">\n",
              "  <thead>\n",
              "    <tr style=\"text-align: right;\">\n",
              "      <th></th>\n",
              "      <th>Hours Studied</th>\n",
              "      <th>Previous Scores</th>\n",
              "      <th>Extracurricular Activities</th>\n",
              "      <th>Sleep Hours</th>\n",
              "      <th>Sample Question Papers Practiced</th>\n",
              "      <th>Performance Index</th>\n",
              "    </tr>\n",
              "  </thead>\n",
              "  <tbody>\n",
              "    <tr>\n",
              "      <th>0</th>\n",
              "      <td>7</td>\n",
              "      <td>99</td>\n",
              "      <td>1</td>\n",
              "      <td>9</td>\n",
              "      <td>1</td>\n",
              "      <td>91.0</td>\n",
              "    </tr>\n",
              "    <tr>\n",
              "      <th>1</th>\n",
              "      <td>4</td>\n",
              "      <td>82</td>\n",
              "      <td>0</td>\n",
              "      <td>4</td>\n",
              "      <td>2</td>\n",
              "      <td>65.0</td>\n",
              "    </tr>\n",
              "    <tr>\n",
              "      <th>2</th>\n",
              "      <td>8</td>\n",
              "      <td>51</td>\n",
              "      <td>1</td>\n",
              "      <td>7</td>\n",
              "      <td>2</td>\n",
              "      <td>45.0</td>\n",
              "    </tr>\n",
              "    <tr>\n",
              "      <th>3</th>\n",
              "      <td>5</td>\n",
              "      <td>52</td>\n",
              "      <td>1</td>\n",
              "      <td>5</td>\n",
              "      <td>2</td>\n",
              "      <td>36.0</td>\n",
              "    </tr>\n",
              "    <tr>\n",
              "      <th>4</th>\n",
              "      <td>7</td>\n",
              "      <td>75</td>\n",
              "      <td>0</td>\n",
              "      <td>8</td>\n",
              "      <td>5</td>\n",
              "      <td>66.0</td>\n",
              "    </tr>\n",
              "  </tbody>\n",
              "</table>\n",
              "</div>"
            ],
            "text/plain": [
              "   Hours Studied  Previous Scores  Extracurricular Activities  Sleep Hours  \\\n",
              "0              7               99                           1            9   \n",
              "1              4               82                           0            4   \n",
              "2              8               51                           1            7   \n",
              "3              5               52                           1            5   \n",
              "4              7               75                           0            8   \n",
              "\n",
              "   Sample Question Papers Practiced  Performance Index  \n",
              "0                                 1               91.0  \n",
              "1                                 2               65.0  \n",
              "2                                 2               45.0  \n",
              "3                                 2               36.0  \n",
              "4                                 5               66.0  "
            ]
          },
          "execution_count": 24,
          "metadata": {},
          "output_type": "execute_result"
        }
      ],
      "source": [
        "df.head()"
      ]
    },
    {
      "cell_type": "code",
      "execution_count": 25,
      "metadata": {
        "colab": {
          "base_uri": "https://localhost:8080/"
        },
        "id": "eqMx9jCv1j1s",
        "outputId": "c79407dd-d959-409c-a917-7fef57846bf5"
      },
      "outputs": [
        {
          "data": {
            "text/html": [
              "<div>\n",
              "<style scoped>\n",
              "    .dataframe tbody tr th:only-of-type {\n",
              "        vertical-align: middle;\n",
              "    }\n",
              "\n",
              "    .dataframe tbody tr th {\n",
              "        vertical-align: top;\n",
              "    }\n",
              "\n",
              "    .dataframe thead th {\n",
              "        text-align: right;\n",
              "    }\n",
              "</style>\n",
              "<table border=\"1\" class=\"dataframe\">\n",
              "  <thead>\n",
              "    <tr style=\"text-align: right;\">\n",
              "      <th></th>\n",
              "      <th>Hours Studied</th>\n",
              "      <th>Previous Scores</th>\n",
              "      <th>Extracurricular Activities</th>\n",
              "      <th>Sleep Hours</th>\n",
              "      <th>Sample Question Papers Practiced</th>\n",
              "      <th>Performance Index</th>\n",
              "    </tr>\n",
              "  </thead>\n",
              "  <tbody>\n",
              "    <tr>\n",
              "      <th>count</th>\n",
              "      <td>10000.000000</td>\n",
              "      <td>10000.000000</td>\n",
              "      <td>10000.000000</td>\n",
              "      <td>10000.000000</td>\n",
              "      <td>10000.000000</td>\n",
              "      <td>10000.000000</td>\n",
              "    </tr>\n",
              "    <tr>\n",
              "      <th>mean</th>\n",
              "      <td>4.992900</td>\n",
              "      <td>69.445700</td>\n",
              "      <td>0.494800</td>\n",
              "      <td>6.530600</td>\n",
              "      <td>4.583300</td>\n",
              "      <td>55.224800</td>\n",
              "    </tr>\n",
              "    <tr>\n",
              "      <th>std</th>\n",
              "      <td>2.589309</td>\n",
              "      <td>17.343152</td>\n",
              "      <td>0.499998</td>\n",
              "      <td>1.695863</td>\n",
              "      <td>2.867348</td>\n",
              "      <td>19.212558</td>\n",
              "    </tr>\n",
              "    <tr>\n",
              "      <th>min</th>\n",
              "      <td>1.000000</td>\n",
              "      <td>40.000000</td>\n",
              "      <td>0.000000</td>\n",
              "      <td>4.000000</td>\n",
              "      <td>0.000000</td>\n",
              "      <td>10.000000</td>\n",
              "    </tr>\n",
              "    <tr>\n",
              "      <th>25%</th>\n",
              "      <td>3.000000</td>\n",
              "      <td>54.000000</td>\n",
              "      <td>0.000000</td>\n",
              "      <td>5.000000</td>\n",
              "      <td>2.000000</td>\n",
              "      <td>40.000000</td>\n",
              "    </tr>\n",
              "    <tr>\n",
              "      <th>50%</th>\n",
              "      <td>5.000000</td>\n",
              "      <td>69.000000</td>\n",
              "      <td>0.000000</td>\n",
              "      <td>7.000000</td>\n",
              "      <td>5.000000</td>\n",
              "      <td>55.000000</td>\n",
              "    </tr>\n",
              "    <tr>\n",
              "      <th>75%</th>\n",
              "      <td>7.000000</td>\n",
              "      <td>85.000000</td>\n",
              "      <td>1.000000</td>\n",
              "      <td>8.000000</td>\n",
              "      <td>7.000000</td>\n",
              "      <td>71.000000</td>\n",
              "    </tr>\n",
              "    <tr>\n",
              "      <th>max</th>\n",
              "      <td>9.000000</td>\n",
              "      <td>99.000000</td>\n",
              "      <td>1.000000</td>\n",
              "      <td>9.000000</td>\n",
              "      <td>9.000000</td>\n",
              "      <td>100.000000</td>\n",
              "    </tr>\n",
              "  </tbody>\n",
              "</table>\n",
              "</div>"
            ],
            "text/plain": [
              "       Hours Studied  Previous Scores  Extracurricular Activities  \\\n",
              "count   10000.000000     10000.000000                10000.000000   \n",
              "mean        4.992900        69.445700                    0.494800   \n",
              "std         2.589309        17.343152                    0.499998   \n",
              "min         1.000000        40.000000                    0.000000   \n",
              "25%         3.000000        54.000000                    0.000000   \n",
              "50%         5.000000        69.000000                    0.000000   \n",
              "75%         7.000000        85.000000                    1.000000   \n",
              "max         9.000000        99.000000                    1.000000   \n",
              "\n",
              "        Sleep Hours  Sample Question Papers Practiced  Performance Index  \n",
              "count  10000.000000                      10000.000000       10000.000000  \n",
              "mean       6.530600                          4.583300          55.224800  \n",
              "std        1.695863                          2.867348          19.212558  \n",
              "min        4.000000                          0.000000          10.000000  \n",
              "25%        5.000000                          2.000000          40.000000  \n",
              "50%        7.000000                          5.000000          55.000000  \n",
              "75%        8.000000                          7.000000          71.000000  \n",
              "max        9.000000                          9.000000         100.000000  "
            ]
          },
          "execution_count": 25,
          "metadata": {},
          "output_type": "execute_result"
        }
      ],
      "source": [
        "df.describe()"
      ]
    },
    {
      "cell_type": "code",
      "execution_count": 26,
      "metadata": {
        "colab": {
          "base_uri": "https://localhost:8080/"
        },
        "id": "i8t5mGx01nJE",
        "outputId": "4a2380a8-8b0f-4d1b-c404-0fd59d4641b6"
      },
      "outputs": [
        {
          "name": "stdout",
          "output_type": "stream",
          "text": [
            "<class 'pandas.core.frame.DataFrame'>\n",
            "RangeIndex: 10000 entries, 0 to 9999\n",
            "Data columns (total 6 columns):\n",
            " #   Column                            Non-Null Count  Dtype  \n",
            "---  ------                            --------------  -----  \n",
            " 0   Hours Studied                     10000 non-null  int64  \n",
            " 1   Previous Scores                   10000 non-null  int64  \n",
            " 2   Extracurricular Activities        10000 non-null  int64  \n",
            " 3   Sleep Hours                       10000 non-null  int64  \n",
            " 4   Sample Question Papers Practiced  10000 non-null  int64  \n",
            " 5   Performance Index                 10000 non-null  float64\n",
            "dtypes: float64(1), int64(5)\n",
            "memory usage: 468.9 KB\n"
          ]
        }
      ],
      "source": [
        "df.info()"
      ]
    },
    {
      "cell_type": "code",
      "execution_count": 27,
      "metadata": {
        "colab": {
          "base_uri": "https://localhost:8080/"
        },
        "id": "un24rq4k1p8h",
        "outputId": "9004ecc3-dd61-4269-ca9a-4d6bdc351fce"
      },
      "outputs": [
        {
          "data": {
            "text/plain": [
              "Hours Studied                       0\n",
              "Previous Scores                     0\n",
              "Extracurricular Activities          0\n",
              "Sleep Hours                         0\n",
              "Sample Question Papers Practiced    0\n",
              "Performance Index                   0\n",
              "dtype: int64"
            ]
          },
          "execution_count": 27,
          "metadata": {},
          "output_type": "execute_result"
        }
      ],
      "source": [
        "df.isnull().sum()"
      ]
    },
    {
      "cell_type": "code",
      "execution_count": 28,
      "metadata": {
        "colab": {
          "base_uri": "https://localhost:8080/"
        },
        "id": "IxP0YErm1aP-",
        "outputId": "c4d4ae9b-9bff-4ad1-f765-71da064daa06"
      },
      "outputs": [
        {
          "data": {
            "text/plain": [
              "0    5052\n",
              "1    4948\n",
              "Name: Extracurricular Activities, dtype: int64"
            ]
          },
          "execution_count": 28,
          "metadata": {},
          "output_type": "execute_result"
        }
      ],
      "source": [
        "df['Extracurricular Activities'].value_counts()"
      ]
    },
    {
      "cell_type": "code",
      "execution_count": 29,
      "metadata": {
        "colab": {
          "base_uri": "https://localhost:8080/",
          "height": 707
        },
        "id": "NVViwgDV2C7B",
        "outputId": "f264972c-9f5f-4747-fcce-ce204becdbdd"
      },
      "outputs": [
        {
          "data": {
            "image/png": "[encoded data removed]",
            "text/plain": [
              "<Figure size 864x576 with 2 Axes>"
            ]
          },
          "metadata": {
            "needs_background": "light"
          },
          "output_type": "display_data"
        }
      ],
      "source": [
        "plt.figure(figsize=(12, 8))\n",
        "sns.heatmap(df.corr(), annot=True, cmap='coolwarm', fmt=\".2f\")\n",
        "plt.title('Correlation Heatmap')\n",
        "plt.show()"
      ]
    },
    {
      "cell_type": "code",
      "execution_count": 30,
      "metadata": {},
      "outputs": [
        {
          "data": {
            "image/png": "[encoded data removed]",
            "text/plain": [
              "<Figure size 720x432 with 1 Axes>"
            ]
          },
          "metadata": {
            "needs_background": "light"
          },
          "output_type": "display_data"
        }
      ],
      "source": [
        "plt.figure(figsize=(10, 6))\n",
        "sns.boxplot(x='Sample Question Papers Practiced', y='Performance Index', data=df)\n",
        "plt.title('Distribution of Performance Index based on Sample Question Papers Practiced')\n",
        "plt.xlabel('Sample Question Papers Practiced')\n",
        "plt.ylabel('Performance Index')\n",
        "plt.show()"
      ]
    },
    {
      "cell_type": "code",
      "execution_count": 31,
      "metadata": {},
      "outputs": [
        {
          "data": {
            "image/png": "[encoded data removed]",
            "text/plain": [
              "<Figure size 720x432 with 1 Axes>"
            ]
          },
          "metadata": {
            "needs_background": "light"
          },
          "output_type": "display_data"
        }
      ],
      "source": [
        "plt.figure(figsize=(10, 6))\n",
        "plt.hist(df['Performance Index'], bins=10, color='green', edgecolor='black')\n",
        "plt.xlabel('Performance Index')\n",
        "plt.ylabel('Frequency')\n",
        "plt.title('Distribution of Performance Index')\n",
        "plt.show()"
      ]
    },
    {
      "cell_type": "code",
      "execution_count": 32,
      "metadata": {},
      "outputs": [
        {
          "data": {
            "text/html": [
              "<div>\n",
              "<style scoped>\n",
              "    .dataframe tbody tr th:only-of-type {\n",
              "        vertical-align: middle;\n",
              "    }\n",
              "\n",
              "    .dataframe tbody tr th {\n",
              "        vertical-align: top;\n",
              "    }\n",
              "\n",
              "    .dataframe thead th {\n",
              "        text-align: right;\n",
              "    }\n",
              "</style>\n",
              "<table border=\"1\" class=\"dataframe\">\n",
              "  <thead>\n",
              "    <tr style=\"text-align: right;\">\n",
              "      <th></th>\n",
              "      <th>Hours Studied</th>\n",
              "      <th>Previous Scores</th>\n",
              "      <th>Extracurricular Activities</th>\n",
              "      <th>Sleep Hours</th>\n",
              "      <th>Sample Question Papers Practiced</th>\n",
              "      <th>Performance Index</th>\n",
              "    </tr>\n",
              "  </thead>\n",
              "  <tbody>\n",
              "    <tr>\n",
              "      <th>0</th>\n",
              "      <td>0.775188</td>\n",
              "      <td>1.704176</td>\n",
              "      <td>1</td>\n",
              "      <td>1.456205</td>\n",
              "      <td>-1.249754</td>\n",
              "      <td>91.0</td>\n",
              "    </tr>\n",
              "    <tr>\n",
              "      <th>1</th>\n",
              "      <td>-0.383481</td>\n",
              "      <td>0.723913</td>\n",
              "      <td>0</td>\n",
              "      <td>-1.492294</td>\n",
              "      <td>-0.900982</td>\n",
              "      <td>65.0</td>\n",
              "    </tr>\n",
              "    <tr>\n",
              "      <th>2</th>\n",
              "      <td>1.161410</td>\n",
              "      <td>-1.063626</td>\n",
              "      <td>1</td>\n",
              "      <td>0.276805</td>\n",
              "      <td>-0.900982</td>\n",
              "      <td>45.0</td>\n",
              "    </tr>\n",
              "    <tr>\n",
              "      <th>3</th>\n",
              "      <td>0.002742</td>\n",
              "      <td>-1.005963</td>\n",
              "      <td>1</td>\n",
              "      <td>-0.902594</td>\n",
              "      <td>-0.900982</td>\n",
              "      <td>36.0</td>\n",
              "    </tr>\n",
              "    <tr>\n",
              "      <th>4</th>\n",
              "      <td>0.775188</td>\n",
              "      <td>0.320275</td>\n",
              "      <td>0</td>\n",
              "      <td>0.866505</td>\n",
              "      <td>0.145333</td>\n",
              "      <td>66.0</td>\n",
              "    </tr>\n",
              "    <tr>\n",
              "      <th>...</th>\n",
              "      <td>...</td>\n",
              "      <td>...</td>\n",
              "      <td>...</td>\n",
              "      <td>...</td>\n",
              "      <td>...</td>\n",
              "      <td>...</td>\n",
              "    </tr>\n",
              "    <tr>\n",
              "      <th>9995</th>\n",
              "      <td>-1.542149</td>\n",
              "      <td>-1.178951</td>\n",
              "      <td>1</td>\n",
              "      <td>-1.492294</td>\n",
              "      <td>-0.900982</td>\n",
              "      <td>23.0</td>\n",
              "    </tr>\n",
              "    <tr>\n",
              "      <th>9996</th>\n",
              "      <td>0.775188</td>\n",
              "      <td>-0.314013</td>\n",
              "      <td>1</td>\n",
              "      <td>0.866505</td>\n",
              "      <td>0.145333</td>\n",
              "      <td>58.0</td>\n",
              "    </tr>\n",
              "    <tr>\n",
              "      <th>9997</th>\n",
              "      <td>0.388965</td>\n",
              "      <td>0.781575</td>\n",
              "      <td>1</td>\n",
              "      <td>0.866505</td>\n",
              "      <td>0.145333</td>\n",
              "      <td>74.0</td>\n",
              "    </tr>\n",
              "    <tr>\n",
              "      <th>9998</th>\n",
              "      <td>1.547633</td>\n",
              "      <td>1.588851</td>\n",
              "      <td>1</td>\n",
              "      <td>0.276805</td>\n",
              "      <td>-1.598526</td>\n",
              "      <td>95.0</td>\n",
              "    </tr>\n",
              "    <tr>\n",
              "      <th>9999</th>\n",
              "      <td>0.775188</td>\n",
              "      <td>0.262612</td>\n",
              "      <td>0</td>\n",
              "      <td>0.866505</td>\n",
              "      <td>-1.249754</td>\n",
              "      <td>64.0</td>\n",
              "    </tr>\n",
              "  </tbody>\n",
              "</table>\n",
              "<p>10000 rows × 6 columns</p>\n",
              "</div>"
            ],
            "text/plain": [
              "      Hours Studied  Previous Scores  Extracurricular Activities  Sleep Hours  \\\n",
              "0          0.775188         1.704176                           1     1.456205   \n",
              "1         -0.383481         0.723913                           0    -1.492294   \n",
              "2          1.161410        -1.063626                           1     0.276805   \n",
              "3          0.002742        -1.005963                           1    -0.902594   \n",
              "4          0.775188         0.320275                           0     0.866505   \n",
              "...             ...              ...                         ...          ...   \n",
              "9995      -1.542149        -1.178951                           1    -1.492294   \n",
              "9996       0.775188        -0.314013                           1     0.866505   \n",
              "9997       0.388965         0.781575                           1     0.866505   \n",
              "9998       1.547633         1.588851                           1     0.276805   \n",
              "9999       0.775188         0.262612                           0     0.866505   \n",
              "\n",
              "      Sample Question Papers Practiced  Performance Index  \n",
              "0                            -1.249754               91.0  \n",
              "1                            -0.900982               65.0  \n",
              "2                            -0.900982               45.0  \n",
              "3                            -0.900982               36.0  \n",
              "4                             0.145333               66.0  \n",
              "...                                ...                ...  \n",
              "9995                         -0.900982               23.0  \n",
              "9996                          0.145333               58.0  \n",
              "9997                          0.145333               74.0  \n",
              "9998                         -1.598526               95.0  \n",
              "9999                         -1.249754               64.0  \n",
              "\n",
              "[10000 rows x 6 columns]"
            ]
          },
          "execution_count": 32,
          "metadata": {},
          "output_type": "execute_result"
        }
      ],
      "source": [
        "df[['Hours Studied', 'Previous Scores', 'Sleep Hours', 'Sample Question Papers Practiced']] = scaler.fit_transform(df[['Hours Studied', 'Previous Scores', 'Sleep Hours', 'Sample Question Papers Practiced']])\n",
        "df"
      ]
    },
    {
      "cell_type": "code",
      "execution_count": 33,
      "metadata": {
        "id": "K1CizOI-yUnp"
      },
      "outputs": [],
      "source": [
        "X = torch.tensor(df.drop('Performance Index', axis=1).values, dtype=torch.float)\n",
        "y = torch.tensor(df['Performance Index'].values, dtype=torch.float)\n",
        "\n",
        "\n",
        "X_train, X_remain, y_train, y_remain = train_test_split(X, y, train_size=0.7, random_state=42)\n",
        "X_eval, X_test, y_eval, y_test = train_test_split(X_remain, y_remain, test_size=1/3, random_state=42)"
      ]
    },
    {
      "cell_type": "code",
      "execution_count": 34,
      "metadata": {
        "id": "WnMwvh_4ybCg"
      },
      "outputs": [],
      "source": [
        "class Mnn(nn.Module):\n",
        "    def __init__(self, input_size, hidden_neurons, output_size):\n",
        "        super(Mnn, self).__init__()\n",
        "\n",
        "        self.sequential_model = nn.Sequential(\n",
        "            nn.Linear(input_size, hidden_neurons),\n",
        "            nn.LeakyReLU(),\n",
        "            nn.Linear(hidden_neurons, hidden_neurons),\n",
        "            nn.LeakyReLU(),\n",
        "            nn.Linear(hidden_neurons, hidden_neurons),\n",
        "            nn.LeakyReLU(),\n",
        "            nn.Linear(hidden_neurons, output_size),\n",
        "            nn.LeakyReLU()\n",
        "        )\n",
        "\n",
        "    def forward(self, x):\n",
        "        return self.sequential_model(x)"
      ]
    },
    {
      "cell_type": "code",
      "execution_count": 35,
      "metadata": {
        "id": "_ZnrbOtoyd2J"
      },
      "outputs": [],
      "source": [
        "Model = Mnn(input_size=X.shape[1], hidden_neurons=10, output_size=1)\n",
        "criterion = nn.MSELoss()\n",
        "optimizer = torch.optim.Adam(Model.parameters(), lr=0.01)\n"
      ]
    },
    {
      "cell_type": "markdown",
      "metadata": {},
      "source": [
        "loss function quantifies how 'wrong' our model is, the optimizer tries to minimize this error by changing the parameters of the model.\n",
        "\n",
        "the loss function is a crucial component in evaluating the performance of a model, while the optimizer's role is to adjust the model's parameters to minimize this loss function, leading to a model that performs better on the task it is trained for.\n",
        "\n",
        "some optimizer example:\n",
        "\n",
        "        Stochastic Gradient Descent (SGD)\n",
        "        SGDMomentum\n",
        "        AdaGrad\n",
        "        RMSprop\n",
        "        Adam\n",
        "\n",
        "some loss function example:\n",
        "\n",
        "        MSE\n",
        "        MAE\n",
        "        Binary Cross-Entropy\n",
        "        Categorical Cross-Entropy"
      ]
    },
    {
      "cell_type": "code",
      "execution_count": 36,
      "metadata": {
        "id": "DgLfMCRCyjkv"
      },
      "outputs": [],
      "source": [
        "num_iterations = 500000\n",
        "eval_losses = []; train_losses = [] \n",
        "threshold = 1000\n",
        "best_loss = torch.inf"
      ]
    },
    {
      "cell_type": "code",
      "execution_count": 37,
      "metadata": {
        "colab": {
          "base_uri": "https://localhost:8080/"
        },
        "id": "ZfG2BY9Yyoai",
        "outputId": "cdd9866b-7690-41af-fb2d-560d3d29a32b"
      },
      "outputs": [
        {
          "name": "stdout",
          "output_type": "stream",
          "text": [
            "Iteration 0, Training Loss: 3428.072509765625, Validation Loss: 3327.60791015625\n",
            "Iteration 500, Training Loss: 5.651580333709717, Validation Loss: 5.658573150634766\n",
            "Iteration 1000, Training Loss: 4.248188018798828, Validation Loss: 4.1508917808532715\n",
            "Iteration 1500, Training Loss: 4.195723056793213, Validation Loss: 4.096301078796387\n",
            "Iteration 2000, Training Loss: 4.189993858337402, Validation Loss: 4.082094192504883\n",
            "Iteration 2500, Training Loss: 4.188174724578857, Validation Loss: 4.0791850090026855\n",
            "Iteration 3000, Training Loss: 4.186950206756592, Validation Loss: 4.078261852264404\n",
            "Iteration 3500, Training Loss: 4.18609094619751, Validation Loss: 4.076147079467773\n",
            "Iteration 4000, Training Loss: 4.1856255531311035, Validation Loss: 4.074533462524414\n",
            "Iteration 4500, Training Loss: 4.185146808624268, Validation Loss: 4.074112892150879\n",
            "Iteration 5000, Training Loss: 4.184688568115234, Validation Loss: 4.074234962463379\n",
            "Iteration 5500, Training Loss: 4.184157848358154, Validation Loss: 4.07349967956543\n",
            "Iteration 6000, Training Loss: 4.1838860511779785, Validation Loss: 4.073233127593994\n",
            "Iteration 6500, Training Loss: 4.183615684509277, Validation Loss: 4.075480937957764\n",
            "Iteration 7000, Training Loss: 4.205111503601074, Validation Loss: 4.127925872802734\n",
            "####################################################################################################\n",
            "Validation loss did not improve for 1000 iterations.\n",
            "Stopping training in Iteration 7066 with Validation Loss: 4.075886249542236\n",
            "----------------------------------------------------------------------------------------------------\n",
            "The last result from training loss: 4.183473587036133\n",
            "best validation loss: 4.068953990936279\n"
          ]
        }
      ],
      "source": [
        "for epoch in range(num_iterations):\n",
        "    \n",
        "    py = Model(X_train).squeeze()\n",
        "    train_loss = criterion(py, y_train)\n",
        "    train_losses.append(train_loss.item())\n",
        "\n",
        "    optimizer.zero_grad()\n",
        "    train_loss.backward()\n",
        "    optimizer.step()\n",
        "\n",
        "\n",
        "    with torch.no_grad():\n",
        "            py_eval = Model(X_eval).squeeze()\n",
        "            eval_loss = criterion(py_eval, y_eval)\n",
        "            eval_losses.append(eval_loss.item())\n",
        "\n",
        "\n",
        "    if eval_loss < best_loss:\n",
        "        best_loss = eval_loss\n",
        "        no_improvement_counter = 0\n",
        "    else:\n",
        "        no_improvement_counter += 1\n",
        "\n",
        "    if no_improvement_counter >= threshold:\n",
        "        print(100*'#')\n",
        "        print(f'Validation loss did not improve for {threshold} iterations.') \n",
        "        print(f'Stopping training in Iteration {epoch} with Validation Loss: {eval_loss}')\n",
        "        break\n",
        "\n",
        "    if epoch % 500 == 0:\n",
        "        print(f'Iteration {epoch}, Training Loss: {train_loss}, Validation Loss: {eval_loss}')\n",
        "print(100*'-')\n",
        "print(f'The last result from training loss: {train_loss}')\n",
        "print(f'best validation loss: {best_loss}')"
      ]
    },
    {
      "cell_type": "code",
      "execution_count": 38,
      "metadata": {
        "colab": {
          "base_uri": "https://localhost:8080/",
          "height": 472
        },
        "id": "ZchP2Xq7yq4e",
        "outputId": "7dad73a8-2e10-4bf8-92ac-48fef67ccd8c"
      },
      "outputs": [
        {
          "data": {
            "image/png": "[encoded data removed]",
            "text/plain": [
              "<Figure size 864x432 with 1 Axes>"
            ]
          },
          "metadata": {
            "needs_background": "light"
          },
          "output_type": "display_data"
        }
      ],
      "source": [
        "plt.figure(figsize=(12, 6))\n",
        "plt.plot(train_losses, label='Training Loss')\n",
        "plt.plot(eval_losses, label='Validation Loss')\n",
        "plt.xlabel('Epoch')\n",
        "plt.ylabel('Loss')\n",
        "plt.title('Training and Validation Loss')\n",
        "plt.legend()\n",
        "plt.show()\n"
      ]
    },
    {
      "cell_type": "code",
      "execution_count": 39,
      "metadata": {},
      "outputs": [],
      "source": [
        "def Calculate_accuracy(y_true, y_pred):\n",
        "    mean_y_true = torch.mean(y_true)\n",
        "    t = torch.sum((y_true - mean_y_true)**2)\n",
        "    r = torch.sum((y_true - y_pred)**2)\n",
        "    return 1 - r / t"
      ]
    },
    {
      "cell_type": "code",
      "execution_count": 40,
      "metadata": {},
      "outputs": [
        {
          "name": "stdout",
          "output_type": "stream",
          "text": [
            "mse loss: 4.116881847381592\n",
            "Accuracy of my model is: 98.853%\n"
          ]
        }
      ],
      "source": [
        "with torch.no_grad():\n",
        "    predictions = Model(X_test).squeeze()\n",
        "    loss = criterion(predictions, y_test)\n",
        "    r2score = Calculate_accuracy(y_test, predictions)\n",
        "\n",
        "print(f'mse loss: {loss.item()}')\n",
        "print(f'Accuracy of my model is: {r2score.item()*100:.3f}%')\n"
      ]
    }
  ],
  "metadata": {
    "accelerator": "TPU",
    "colab": {
      "provenance": []
    },
    "kernelspec": {
      "display_name": "Python 3",
      "name": "python3"
    },
    "language_info": {
      "codemirror_mode": {
        "name": "ipython",
        "version": 3
      },
      "file_extension": ".py",
      "mimetype": "text/x-python",
      "name": "python",
      "nbconvert_exporter": "python",
      "pygments_lexer": "ipython3",
      "version": "3.10.0"
    }
  },
  "nbformat": 4,
  "nbformat_minor": 0
}
